{
 "cells": [
  {
   "cell_type": "markdown",
   "id": "2748685e-e0fb-4faa-959d-64e23d60eae1",
   "metadata": {},
   "source": "The dependence of the fidelity for pulses after a Butterworth filter with the pulse time is non-trivial. To gain understanding, we compute the minimum infidelity in pulse times $t_f\\in\\left[0, 20 / x\\right]$. Furthermore, we study how this minimum infidelity depends on $n_+$ and the cut-off frequency $f_c$."
  },
  {
   "cell_type": "code",
   "execution_count": 7,
   "id": "73b0d9c7-8949-49f3-9049-8fa5422c06a6",
   "metadata": {
    "execution": {
     "iopub.execute_input": "2025-03-14T05:54:50.043832Z",
     "iopub.status.busy": "2025-03-14T05:54:50.043491Z",
     "iopub.status.idle": "2025-03-14T05:54:50.049620Z",
     "shell.execute_reply": "2025-03-14T05:54:50.049216Z",
     "shell.execute_reply.started": "2025-03-14T05:54:50.043817Z"
    }
   },
   "outputs": [],
   "source": [
    "import sys\n",
    "sys.path.append('../')\n",
    "\n",
    "import numpy as np\n",
    "import matplotlib.pyplot as plt\n",
    "import matplotlib.patches as patches\n",
    "from scipy.constants import h, e\n",
    "\n",
    "from HQUAD_lib.QUAD_utils import solve_LZ\n",
    "from HQUAD_lib.parallel_utils import parameter_run\n",
    "from HQUAD_lib.physics_utils import filter_pulse, fidelity_LZ\n",
    "from HQUAD_lib.plotting_utils import plot_gradient_lines"
   ]
  },
  {
   "cell_type": "code",
   "execution_count": 8,
   "id": "32813945-b56a-41df-9720-5d40a5a14761",
   "metadata": {
    "execution": {
     "iopub.execute_input": "2025-03-14T05:54:50.331366Z",
     "iopub.status.busy": "2025-03-14T05:54:50.330851Z",
     "iopub.status.idle": "2025-03-14T05:54:50.339832Z",
     "shell.execute_reply": "2025-03-14T05:54:50.338903Z",
     "shell.execute_reply.started": "2025-03-14T05:54:50.331327Z"
    }
   },
   "outputs": [],
   "source": [
    "def compute_fidelity_total(alpha: float, beta: float, fc: float) -> np.array:\n",
    "    z_sol = solve_LZ(alpha, beta, reduction=dynamics_reduction)\n",
    "\n",
    "    boundary_left = np.ones(len(z_sol) // tails_factor) * -10\n",
    "    boundary_right = np.ones(len(z_sol) // tails_factor) * 10\n",
    "    pulse = np.concatenate((boundary_left, z_sol, boundary_right))\n",
    "\n",
    "    fidelities = np.zeros(n_tf)\n",
    "    for i in range(n_tf):\n",
    "        time = np.linspace(0, tf_list[i], len(pulse))\n",
    "        filtered_pulse = filter_pulse(pulse, time, order=order, fc=fc)\n",
    "        fidelities[i] = fidelity_LZ(min(pulse), filtered_pulse, tf_list[i], x=x, gamma=gamma)\n",
    "\n",
    "    return fidelities"
   ]
  },
  {
   "cell_type": "code",
   "execution_count": 9,
   "id": "771b510b-a36e-42c7-ac8f-9918ebbcc8d6",
   "metadata": {
    "execution": {
     "iopub.execute_input": "2025-03-14T05:54:50.623359Z",
     "iopub.status.busy": "2025-03-14T05:54:50.622816Z",
     "iopub.status.idle": "2025-03-14T05:54:50.628354Z",
     "shell.execute_reply": "2025-03-14T05:54:50.627290Z",
     "shell.execute_reply.started": "2025-03-14T05:54:50.623321Z"
    }
   },
   "outputs": [],
   "source": [
    "gamma = 0.005\n",
    "x = 1\n",
    "\n",
    "dynamics_reduction = 4\n",
    "\n",
    "tails_factor = 5\n",
    "\n",
    "order = 3"
   ]
  },
  {
   "cell_type": "markdown",
   "id": "0b7d0c54-be88-4e1a-9e72-d56b6c850bf6",
   "metadata": {},
   "source": [
    "# Single $f_c$"
   ]
  },
  {
   "cell_type": "code",
   "execution_count": 10,
   "id": "3518390c-1b46-4328-8725-5ce93a9e3dc2",
   "metadata": {
    "execution": {
     "iopub.execute_input": "2025-03-14T05:54:51.555830Z",
     "iopub.status.busy": "2025-03-14T05:54:51.555146Z",
     "iopub.status.idle": "2025-03-14T05:54:51.566390Z",
     "shell.execute_reply": "2025-03-14T05:54:51.565135Z",
     "shell.execute_reply.started": "2025-03-14T05:54:51.555779Z"
    }
   },
   "outputs": [],
   "source": [
    "fc = 1\n",
    "\n",
    "n_values = 21  # Increase to enhance resolution\n",
    "n_minus = 0\n",
    "n_plus = np.linspace(-5, 5, n_values)\n",
    "n_plus[0] = -np.inf\n",
    "n_plus[-1] = np.inf\n",
    "\n",
    "alphas = n_plus + n_minus\n",
    "betas = n_plus - n_minus"
   ]
  },
  {
   "cell_type": "code",
   "execution_count": 11,
   "id": "d2344bc7-d1a7-4045-a0ba-ac59ddb3ae9a",
   "metadata": {
    "execution": {
     "iopub.execute_input": "2025-03-14T05:54:51.863248Z",
     "iopub.status.busy": "2025-03-14T05:54:51.861489Z",
     "iopub.status.idle": "2025-03-14T05:54:51.868999Z",
     "shell.execute_reply": "2025-03-14T05:54:51.867781Z",
     "shell.execute_reply.started": "2025-03-14T05:54:51.863191Z"
    }
   },
   "outputs": [],
   "source": [
    "n_tf = 20  # Increase to enhance resolution\n",
    "tf_list = np.linspace(1, 20, n_tf) * (1 + 2 / tails_factor)"
   ]
  },
  {
   "cell_type": "code",
   "execution_count": 12,
   "id": "b775a450-018c-4853-b700-ad4b5513f8b0",
   "metadata": {
    "execution": {
     "iopub.execute_input": "2025-03-14T05:54:52.738853Z",
     "iopub.status.busy": "2025-03-14T05:54:52.738317Z",
     "iopub.status.idle": "2025-03-14T05:55:03.725819Z",
     "shell.execute_reply": "2025-03-14T05:55:03.725377Z",
     "shell.execute_reply.started": "2025-03-14T05:54:52.738815Z"
    }
   },
   "outputs": [
    {
     "data": {
      "application/vnd.jupyter.widget-view+json": {
       "model_id": "b574393b03644fd2bea9aabf580f2813",
       "version_major": 2,
       "version_minor": 0
      },
      "text/plain": [
       "compute_fidelity_total: [['alpha', 'beta(...)]:   0%|          | 0/21 [00:00<?, ?it/s]"
      ]
     },
     "metadata": {},
     "output_type": "display_data"
    }
   ],
   "source": [
    "fidelities = parameter_run(compute_fidelity_total, [['alpha', 'beta']], [[alphas, betas]], \n",
    "                           reshape=False, fc=fc)\n",
    "\n",
    "fidelities = np.array(fidelities).reshape((n_values, n_tf))"
   ]
  },
  {
   "cell_type": "code",
   "execution_count": 13,
   "id": "67d0c407-06d2-4c7d-b145-13e39cd9404c",
   "metadata": {
    "execution": {
     "iopub.execute_input": "2025-03-14T05:55:03.726911Z",
     "iopub.status.busy": "2025-03-14T05:55:03.726775Z",
     "iopub.status.idle": "2025-03-14T05:55:03.733919Z",
     "shell.execute_reply": "2025-03-14T05:55:03.733189Z",
     "shell.execute_reply.started": "2025-03-14T05:55:03.726898Z"
    }
   },
   "outputs": [],
   "source": [
    "tf_pulses = tf_list / (1 + 2 / tails_factor)\n",
    "n_plus = (alphas + betas) / 2\n",
    "\n",
    "indices_tilde = np.argmax(fidelities, axis=1)\n",
    "F_tilde = np.array([fidelities[i, index] for i, index in enumerate(indices_tilde)])\n",
    "tf_tilde = tf_pulses[indices_tilde]"
   ]
  },
  {
   "cell_type": "markdown",
   "id": "00625e33-1a22-495e-86bb-f5603687efa6",
   "metadata": {},
   "source": [
    "# Run over $f_c$"
   ]
  },
  {
   "cell_type": "code",
   "execution_count": 14,
   "id": "c24bb00e-be00-4d02-a7c6-6b63db01f317",
   "metadata": {
    "execution": {
     "iopub.execute_input": "2025-03-14T05:55:03.735317Z",
     "iopub.status.busy": "2025-03-14T05:55:03.734934Z",
     "iopub.status.idle": "2025-03-14T05:55:03.744887Z",
     "shell.execute_reply": "2025-03-14T05:55:03.741578Z",
     "shell.execute_reply.started": "2025-03-14T05:55:03.735265Z"
    }
   },
   "outputs": [],
   "source": [
    "n_fc = 10  # Increase to enhance resolution\n",
    "fc_list = np.logspace(-1.5, 0.5, n_fc)"
   ]
  },
  {
   "cell_type": "code",
   "execution_count": 15,
   "id": "25aae141-1f9c-46a2-b6de-a222a20f188a",
   "metadata": {
    "execution": {
     "iopub.execute_input": "2025-03-14T05:55:06.248703Z",
     "iopub.status.busy": "2025-03-14T05:55:06.247666Z",
     "iopub.status.idle": "2025-03-14T05:57:11.649964Z",
     "shell.execute_reply": "2025-03-14T05:57:11.649546Z",
     "shell.execute_reply.started": "2025-03-14T05:55:06.248636Z"
    }
   },
   "outputs": [
    {
     "data": {
      "application/vnd.jupyter.widget-view+json": {
       "model_id": "c3ea0afb6a364f7db77a40914078a8fa",
       "version_major": 2,
       "version_minor": 0
      },
      "text/plain": [
       "compute_fidelity_total: [['alpha', 'beta(...)]:   0%|          | 0/210 [00:00<?, ?it/s]"
      ]
     },
     "metadata": {},
     "output_type": "display_data"
    }
   ],
   "source": [
    "fidelities_fc = parameter_run(compute_fidelity_total, [['alpha', 'beta'], ['fc']], [[alphas, betas], [fc_list]], \n",
    "                           reshape=False)\n",
    "\n",
    "fidelities_fc = np.array(fidelities_fc).reshape((n_values, n_fc, n_tf))"
   ]
  },
  {
   "cell_type": "code",
   "execution_count": 16,
   "id": "022c6ec6-db37-4649-9f82-73386a1c70d4",
   "metadata": {
    "execution": {
     "iopub.execute_input": "2025-03-14T05:57:11.651196Z",
     "iopub.status.busy": "2025-03-14T05:57:11.651016Z",
     "iopub.status.idle": "2025-03-14T05:57:11.654149Z",
     "shell.execute_reply": "2025-03-14T05:57:11.653782Z",
     "shell.execute_reply.started": "2025-03-14T05:57:11.651181Z"
    }
   },
   "outputs": [],
   "source": [
    "optimal_max_fidelity = np.max(fidelities_fc, axis=-1)\n",
    "optimal_tf_tilde = tf_list[np.argmax(fidelities_fc, axis=-1)]\n",
    "\n",
    "optimal_x_ueV = 10\n",
    "optimal_GHZ_factor = optimal_x_ueV * 1e-6 * e / h / 1e9"
   ]
  },
  {
   "cell_type": "markdown",
   "id": "04ae72fa-72c6-4ac8-a10e-bb38bc30b13d",
   "metadata": {},
   "source": [
    "# Plot"
   ]
  },
  {
   "cell_type": "code",
   "execution_count": 17,
   "id": "9f75dbf6-e9fc-4321-8600-18435a0ebbb6",
   "metadata": {
    "execution": {
     "iopub.execute_input": "2025-03-14T05:57:11.655706Z",
     "iopub.status.busy": "2025-03-14T05:57:11.655492Z",
     "iopub.status.idle": "2025-03-14T05:57:12.476826Z",
     "shell.execute_reply": "2025-03-14T05:57:12.476405Z",
     "shell.execute_reply.started": "2025-03-14T05:57:11.655690Z"
    }
   },
   "outputs": [
    {
     "data": {
      "image/png": "[encoded data removed]",
      "text/plain": [
       "<Figure size 300x550 with 6 Axes>"
      ]
     },
     "metadata": {},
     "output_type": "display_data"
    }
   ],
   "source": [
    "fig, axs = plt.subplots(3, 1, figsize=(3., 5.5), gridspec_kw=dict(height_ratios=[1, 0.8, 1]))\n",
    "\n",
    "# Gradient lines\n",
    "ax, sm = plot_gradient_lines(tf_pulses, 1 - fidelities, alphas, betas, \n",
    "                             x_label=r'$t_f\\; [1 / x]$', y_label=r'$1 - \\mathcal{F}$',\n",
    "                             ax=axs[0], legend_bool=False, cbar_bool=False)\n",
    "\n",
    "plt.colorbar(sm, ax=axs[0], label=r'$n_+ $', location='right', extend='both')\n",
    "\n",
    "axs[0].plot(tf_pulses, 1 / 2 * (1 - np.exp(-tf_pulses * gamma)), ls='--', c='k')\n",
    "axs[0].set_yscale('log')\n",
    "axs[0].set_ylim(5e-3, 1)\n",
    "axs[0].set_xlim(0, 20)\n",
    "\n",
    "# Best fidelities\n",
    "cbar = plt.colorbar(sm, ax=axs[1], label=r'$n_+ $', location='right')\n",
    "cbar.remove()\n",
    "\n",
    "colors = ['b', 'r']\n",
    "axs[1].plot(n_plus, 1 - F_tilde, c=colors[0])\n",
    "axs[1].set_yscale('log')\n",
    "axs[1].grid()\n",
    "\n",
    "axs[1].set_xlim(np.min(n_plus[1:-1]), np.max(n_plus[1:-1]))\n",
    "axs[1].set_ylim(None, 2)\n",
    "axs[1].set_ylabel(r'$1 - \\tilde{\\mathcal{F}}$')\n",
    "axs[1].set_xlabel(r'$n_+$')\n",
    "\n",
    "ax2 = plt.twinx(axs[1])\n",
    "ax2.plot(n_plus, tf_tilde, c=colors[1])\n",
    "ax2.set_ylabel(r'$\\tilde{t}_f \\; [1 / x]$')\n",
    "ax2.set_ylim(0, 21)\n",
    "\n",
    "a1 = patches.FancyArrowPatch((-3.5, 19), (-5, 13), connectionstyle='angle3,angleA=90,angleB=0', shrinkA=5, shrinkB=5,\n",
    "                             arrowstyle=\"->, head_width=2.5, head_length=3\", color=colors[0])\n",
    "\n",
    "a2 = patches.FancyArrowPatch((3.5, 1.5), (5, 7), connectionstyle='angle3,angleA=90,angleB=0', shrinkA=5, shrinkB=5,\n",
    "                             arrowstyle=\"->, head_width=2.5, head_length=3\", color=colors[1])\n",
    "arrows = [a1, a2]\n",
    "\n",
    "[ax2.add_patch(arrow) for arrow in arrows]\n",
    "\n",
    "# Optimal lines\n",
    "im = axs[2].pcolormesh(n_plus[1:-1], fc_list * optimal_GHZ_factor, np.log10(1 - optimal_max_fidelity[1:-1].T),\n",
    "                       cmap='viridis_r', linewidth=0)\n",
    "\n",
    "axs[2].set_xlabel(r'$n_+$')\n",
    "axs[2].set_ylabel(r'$f_c$ [GHz]')\n",
    "axs[2].set_yscale('log')\n",
    "\n",
    "plt.colorbar(im, ax=axs[2], label=r'$\\log_{10}(1 - \\tilde{\\mathcal{F}})$')\n",
    "\n",
    "fig.tight_layout()"
   ]
  }
 ],
 "metadata": {
  "kernelspec": {
   "display_name": "Python 3 (ipykernel)",
   "language": "python",
   "name": "python3"
  },
  "language_info": {
   "codemirror_mode": {
    "name": "ipython",
    "version": 3
   },
   "file_extension": ".py",
   "mimetype": "text/x-python",
   "name": "python",
   "nbconvert_exporter": "python",
   "pygments_lexer": "ipython3",
   "version": "3.9.16"
  }
 },
 "nbformat": 4,
 "nbformat_minor": 5
}
