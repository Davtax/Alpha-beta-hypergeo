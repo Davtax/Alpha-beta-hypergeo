{
 "cells": [
  {
   "cell_type": "markdown",
   "id": "941c22b7-f348-476b-88ef-4d79a41cce64",
   "metadata": {},
   "source": [
    "In presence of dephasing, the system is modeled via a Lindblad master equation given by\n",
    "$$\n",
    "\\dot{\\rho}(t) = -i\\left[H(t), \\rho(t)\\right]+\\frac{\\gamma}{2}\\left[\\operatorname{diag}(\\rho(t)) - \\rho(t))\\right],\n",
    "$$\n",
    "where $\\gamma = 1 /(2 T_2)$. The fidelity is now defined as $\\mathcal{F} = \\bra{\\psi_0(t_f)}\\rho(t_f)\\ket{\\psi_0(t_f)}$."
   ]
  },
  {
   "cell_type": "code",
   "execution_count": 1,
   "id": "9596b002-a5e5-4afb-8ba1-12cf322bccc7",
   "metadata": {
    "execution": {
     "iopub.execute_input": "2025-03-13T14:54:33.176563Z",
     "iopub.status.busy": "2025-03-13T14:54:33.175577Z",
     "iopub.status.idle": "2025-03-13T14:54:34.788519Z",
     "shell.execute_reply": "2025-03-13T14:54:34.788519Z",
     "shell.execute_reply.started": "2025-03-13T14:54:33.176563Z"
    }
   },
   "outputs": [],
   "source": [
    "import numpy as np\n",
    "import matplotlib.pyplot as plt\n",
    "from tqdm.auto import tqdm\n",
    "\n",
    "from HQUAD_lib.QUAD_utils import solve_LZ\n",
    "from HQUAD_lib.parallel_utils import parameter_run\n",
    "from HQUAD_lib.plotting_utils import plot_gradient_lines\n",
    "from HQUAD_lib.physics_utils import fidelity_LZ"
   ]
  },
  {
   "cell_type": "code",
   "execution_count": 3,
   "id": "8c7b4cc9-5e50-4bee-b8e6-0646d7f2f6c4",
   "metadata": {
    "execution": {
     "iopub.execute_input": "2025-03-13T14:54:38.572250Z",
     "iopub.status.busy": "2025-03-13T14:54:38.572250Z",
     "iopub.status.idle": "2025-03-13T14:54:38.592846Z",
     "shell.execute_reply": "2025-03-13T14:54:38.592846Z",
     "shell.execute_reply.started": "2025-03-13T14:54:38.572250Z"
    }
   },
   "outputs": [],
   "source": [
    "x = 1\n",
    "\n",
    "n_alphas = 21  # Increase for higher resolution\n",
    "alphas = np.linspace(-4, 4, n_alphas)\n",
    "alphas[0] = -np.inf\n",
    "alphas[-1] = np.inf\n",
    "\n",
    "betas = alphas\n",
    "\n",
    "gamma = 0.005\n",
    "\n",
    "tfs = np.linspace(0.1, 10, 100)\n",
    "\n",
    "def compute_fidelity_total(alpha, beta, gamma):\n",
    "    pulse = solve_LZ(alpha, beta, x=x)\n",
    "\n",
    "    fidelitites = parameter_run(fidelity_LZ, 'tf', tfs, pulse=pulse, x=x, z0=-10,\n",
    "                                gamma=gamma, pbar_kwargs=dict(leave=False))\n",
    "    return fidelitites"
   ]
  },
  {
   "cell_type": "code",
   "execution_count": 4,
   "id": "7b489215-b629-4050-a9bf-15e6afd9f917",
   "metadata": {
    "execution": {
     "iopub.execute_input": "2025-03-13T14:54:39.459627Z",
     "iopub.status.busy": "2025-03-13T14:54:39.459627Z",
     "iopub.status.idle": "2025-03-13T14:57:09.248517Z",
     "shell.execute_reply": "2025-03-13T14:57:09.248517Z",
     "shell.execute_reply.started": "2025-03-13T14:54:39.459627Z"
    }
   },
   "outputs": [
    {
     "data": {
      "application/vnd.jupyter.widget-view+json": {
       "model_id": "91b09088468d483981cec7f3c4c48740",
       "version_major": 2,
       "version_minor": 0
      },
      "text/plain": [
       "Computing fidelitites:   0%|          | 0/21 [00:00<?, ?it/s]"
      ]
     },
     "metadata": {},
     "output_type": "display_data"
    },
    {
     "data": {
      "application/vnd.jupyter.widget-view+json": {
       "model_id": "",
       "version_major": 2,
       "version_minor": 0
      },
      "text/plain": [
       "fidelity_LZ: [['tf']]:   0%|          | 0/100 [00:00<?, ?it/s]"
      ]
     },
     "metadata": {},
     "output_type": "display_data"
    },
    {
     "data": {
      "application/vnd.jupyter.widget-view+json": {
       "model_id": "",
       "version_major": 2,
       "version_minor": 0
      },
      "text/plain": [
       "fidelity_LZ: [['tf']]:   0%|          | 0/100 [00:00<?, ?it/s]"
      ]
     },
     "metadata": {},
     "output_type": "display_data"
    },
    {
     "data": {
      "application/vnd.jupyter.widget-view+json": {
       "model_id": "",
       "version_major": 2,
       "version_minor": 0
      },
      "text/plain": [
       "fidelity_LZ: [['tf']]:   0%|          | 0/100 [00:00<?, ?it/s]"
      ]
     },
     "metadata": {},
     "output_type": "display_data"
    },
    {
     "data": {
      "application/vnd.jupyter.widget-view+json": {
       "model_id": "",
       "version_major": 2,
       "version_minor": 0
      },
      "text/plain": [
       "fidelity_LZ: [['tf']]:   0%|          | 0/100 [00:00<?, ?it/s]"
      ]
     },
     "metadata": {},
     "output_type": "display_data"
    },
    {
     "data": {
      "application/vnd.jupyter.widget-view+json": {
       "model_id": "",
       "version_major": 2,
       "version_minor": 0
      },
      "text/plain": [
       "fidelity_LZ: [['tf']]:   0%|          | 0/100 [00:00<?, ?it/s]"
      ]
     },
     "metadata": {},
     "output_type": "display_data"
    },
    {
     "data": {
      "application/vnd.jupyter.widget-view+json": {
       "model_id": "",
       "version_major": 2,
       "version_minor": 0
      },
      "text/plain": [
       "fidelity_LZ: [['tf']]:   0%|          | 0/100 [00:00<?, ?it/s]"
      ]
     },
     "metadata": {},
     "output_type": "display_data"
    },
    {
     "data": {
      "application/vnd.jupyter.widget-view+json": {
       "model_id": "",
       "version_major": 2,
       "version_minor": 0
      },
      "text/plain": [
       "fidelity_LZ: [['tf']]:   0%|          | 0/100 [00:00<?, ?it/s]"
      ]
     },
     "metadata": {},
     "output_type": "display_data"
    },
    {
     "data": {
      "application/vnd.jupyter.widget-view+json": {
       "model_id": "",
       "version_major": 2,
       "version_minor": 0
      },
      "text/plain": [
       "fidelity_LZ: [['tf']]:   0%|          | 0/100 [00:00<?, ?it/s]"
      ]
     },
     "metadata": {},
     "output_type": "display_data"
    },
    {
     "data": {
      "application/vnd.jupyter.widget-view+json": {
       "model_id": "",
       "version_major": 2,
       "version_minor": 0
      },
      "text/plain": [
       "fidelity_LZ: [['tf']]:   0%|          | 0/100 [00:00<?, ?it/s]"
      ]
     },
     "metadata": {},
     "output_type": "display_data"
    },
    {
     "data": {
      "application/vnd.jupyter.widget-view+json": {
       "model_id": "",
       "version_major": 2,
       "version_minor": 0
      },
      "text/plain": [
       "fidelity_LZ: [['tf']]:   0%|          | 0/100 [00:00<?, ?it/s]"
      ]
     },
     "metadata": {},
     "output_type": "display_data"
    },
    {
     "data": {
      "application/vnd.jupyter.widget-view+json": {
       "model_id": "",
       "version_major": 2,
       "version_minor": 0
      },
      "text/plain": [
       "fidelity_LZ: [['tf']]:   0%|          | 0/100 [00:00<?, ?it/s]"
      ]
     },
     "metadata": {},
     "output_type": "display_data"
    },
    {
     "data": {
      "application/vnd.jupyter.widget-view+json": {
       "model_id": "",
       "version_major": 2,
       "version_minor": 0
      },
      "text/plain": [
       "fidelity_LZ: [['tf']]:   0%|          | 0/100 [00:00<?, ?it/s]"
      ]
     },
     "metadata": {},
     "output_type": "display_data"
    },
    {
     "data": {
      "application/vnd.jupyter.widget-view+json": {
       "model_id": "",
       "version_major": 2,
       "version_minor": 0
      },
      "text/plain": [
       "fidelity_LZ: [['tf']]:   0%|          | 0/100 [00:00<?, ?it/s]"
      ]
     },
     "metadata": {},
     "output_type": "display_data"
    },
    {
     "data": {
      "application/vnd.jupyter.widget-view+json": {
       "model_id": "",
       "version_major": 2,
       "version_minor": 0
      },
      "text/plain": [
       "fidelity_LZ: [['tf']]:   0%|          | 0/100 [00:00<?, ?it/s]"
      ]
     },
     "metadata": {},
     "output_type": "display_data"
    },
    {
     "data": {
      "application/vnd.jupyter.widget-view+json": {
       "model_id": "",
       "version_major": 2,
       "version_minor": 0
      },
      "text/plain": [
       "fidelity_LZ: [['tf']]:   0%|          | 0/100 [00:00<?, ?it/s]"
      ]
     },
     "metadata": {},
     "output_type": "display_data"
    },
    {
     "data": {
      "application/vnd.jupyter.widget-view+json": {
       "model_id": "",
       "version_major": 2,
       "version_minor": 0
      },
      "text/plain": [
       "fidelity_LZ: [['tf']]:   0%|          | 0/100 [00:00<?, ?it/s]"
      ]
     },
     "metadata": {},
     "output_type": "display_data"
    },
    {
     "data": {
      "application/vnd.jupyter.widget-view+json": {
       "model_id": "",
       "version_major": 2,
       "version_minor": 0
      },
      "text/plain": [
       "fidelity_LZ: [['tf']]:   0%|          | 0/100 [00:00<?, ?it/s]"
      ]
     },
     "metadata": {},
     "output_type": "display_data"
    },
    {
     "data": {
      "application/vnd.jupyter.widget-view+json": {
       "model_id": "",
       "version_major": 2,
       "version_minor": 0
      },
      "text/plain": [
       "fidelity_LZ: [['tf']]:   0%|          | 0/100 [00:00<?, ?it/s]"
      ]
     },
     "metadata": {},
     "output_type": "display_data"
    },
    {
     "data": {
      "application/vnd.jupyter.widget-view+json": {
       "model_id": "",
       "version_major": 2,
       "version_minor": 0
      },
      "text/plain": [
       "fidelity_LZ: [['tf']]:   0%|          | 0/100 [00:00<?, ?it/s]"
      ]
     },
     "metadata": {},
     "output_type": "display_data"
    },
    {
     "data": {
      "application/vnd.jupyter.widget-view+json": {
       "model_id": "",
       "version_major": 2,
       "version_minor": 0
      },
      "text/plain": [
       "fidelity_LZ: [['tf']]:   0%|          | 0/100 [00:00<?, ?it/s]"
      ]
     },
     "metadata": {},
     "output_type": "display_data"
    },
    {
     "data": {
      "application/vnd.jupyter.widget-view+json": {
       "model_id": "",
       "version_major": 2,
       "version_minor": 0
      },
      "text/plain": [
       "fidelity_LZ: [['tf']]:   0%|          | 0/100 [00:00<?, ?it/s]"
      ]
     },
     "metadata": {},
     "output_type": "display_data"
    }
   ],
   "source": [
    "fidelities_pure = np.zeros((n_alphas, len(tfs)))\n",
    "pbar = tqdm(total=n_alphas, desc='Computing fidelitites')\n",
    "for i in range(n_alphas):\n",
    "    fidelities_pure[i] = compute_fidelity_total(alphas[i], betas[i], gamma=0)\n",
    "    pbar.update()\n",
    "pbar.close()"
   ]
  },
  {
   "cell_type": "code",
   "execution_count": 5,
   "id": "cc237261-8f9f-48dc-a577-6a87968b4961",
   "metadata": {
    "execution": {
     "iopub.execute_input": "2025-03-13T14:57:09.250518Z",
     "iopub.status.busy": "2025-03-13T14:57:09.250518Z",
     "iopub.status.idle": "2025-03-13T14:59:47.076349Z",
     "shell.execute_reply": "2025-03-13T14:59:47.076349Z",
     "shell.execute_reply.started": "2025-03-13T14:57:09.250518Z"
    }
   },
   "outputs": [
    {
     "data": {
      "application/vnd.jupyter.widget-view+json": {
       "model_id": "8b05e84a9abf498d9c86612cfb056c6d",
       "version_major": 2,
       "version_minor": 0
      },
      "text/plain": [
       "Computing fidelitites:   0%|          | 0/21 [00:00<?, ?it/s]"
      ]
     },
     "metadata": {},
     "output_type": "display_data"
    },
    {
     "data": {
      "application/vnd.jupyter.widget-view+json": {
       "model_id": "",
       "version_major": 2,
       "version_minor": 0
      },
      "text/plain": [
       "fidelity_LZ: [['tf']]:   0%|          | 0/100 [00:00<?, ?it/s]"
      ]
     },
     "metadata": {},
     "output_type": "display_data"
    },
    {
     "data": {
      "application/vnd.jupyter.widget-view+json": {
       "model_id": "",
       "version_major": 2,
       "version_minor": 0
      },
      "text/plain": [
       "fidelity_LZ: [['tf']]:   0%|          | 0/100 [00:00<?, ?it/s]"
      ]
     },
     "metadata": {},
     "output_type": "display_data"
    },
    {
     "data": {
      "application/vnd.jupyter.widget-view+json": {
       "model_id": "",
       "version_major": 2,
       "version_minor": 0
      },
      "text/plain": [
       "fidelity_LZ: [['tf']]:   0%|          | 0/100 [00:00<?, ?it/s]"
      ]
     },
     "metadata": {},
     "output_type": "display_data"
    },
    {
     "data": {
      "application/vnd.jupyter.widget-view+json": {
       "model_id": "",
       "version_major": 2,
       "version_minor": 0
      },
      "text/plain": [
       "fidelity_LZ: [['tf']]:   0%|          | 0/100 [00:00<?, ?it/s]"
      ]
     },
     "metadata": {},
     "output_type": "display_data"
    },
    {
     "data": {
      "application/vnd.jupyter.widget-view+json": {
       "model_id": "",
       "version_major": 2,
       "version_minor": 0
      },
      "text/plain": [
       "fidelity_LZ: [['tf']]:   0%|          | 0/100 [00:00<?, ?it/s]"
      ]
     },
     "metadata": {},
     "output_type": "display_data"
    },
    {
     "data": {
      "application/vnd.jupyter.widget-view+json": {
       "model_id": "",
       "version_major": 2,
       "version_minor": 0
      },
      "text/plain": [
       "fidelity_LZ: [['tf']]:   0%|          | 0/100 [00:00<?, ?it/s]"
      ]
     },
     "metadata": {},
     "output_type": "display_data"
    },
    {
     "data": {
      "application/vnd.jupyter.widget-view+json": {
       "model_id": "",
       "version_major": 2,
       "version_minor": 0
      },
      "text/plain": [
       "fidelity_LZ: [['tf']]:   0%|          | 0/100 [00:00<?, ?it/s]"
      ]
     },
     "metadata": {},
     "output_type": "display_data"
    },
    {
     "data": {
      "application/vnd.jupyter.widget-view+json": {
       "model_id": "",
       "version_major": 2,
       "version_minor": 0
      },
      "text/plain": [
       "fidelity_LZ: [['tf']]:   0%|          | 0/100 [00:00<?, ?it/s]"
      ]
     },
     "metadata": {},
     "output_type": "display_data"
    },
    {
     "data": {
      "application/vnd.jupyter.widget-view+json": {
       "model_id": "",
       "version_major": 2,
       "version_minor": 0
      },
      "text/plain": [
       "fidelity_LZ: [['tf']]:   0%|          | 0/100 [00:00<?, ?it/s]"
      ]
     },
     "metadata": {},
     "output_type": "display_data"
    },
    {
     "data": {
      "application/vnd.jupyter.widget-view+json": {
       "model_id": "",
       "version_major": 2,
       "version_minor": 0
      },
      "text/plain": [
       "fidelity_LZ: [['tf']]:   0%|          | 0/100 [00:00<?, ?it/s]"
      ]
     },
     "metadata": {},
     "output_type": "display_data"
    },
    {
     "data": {
      "application/vnd.jupyter.widget-view+json": {
       "model_id": "",
       "version_major": 2,
       "version_minor": 0
      },
      "text/plain": [
       "fidelity_LZ: [['tf']]:   0%|          | 0/100 [00:00<?, ?it/s]"
      ]
     },
     "metadata": {},
     "output_type": "display_data"
    },
    {
     "data": {
      "application/vnd.jupyter.widget-view+json": {
       "model_id": "",
       "version_major": 2,
       "version_minor": 0
      },
      "text/plain": [
       "fidelity_LZ: [['tf']]:   0%|          | 0/100 [00:00<?, ?it/s]"
      ]
     },
     "metadata": {},
     "output_type": "display_data"
    },
    {
     "data": {
      "application/vnd.jupyter.widget-view+json": {
       "model_id": "",
       "version_major": 2,
       "version_minor": 0
      },
      "text/plain": [
       "fidelity_LZ: [['tf']]:   0%|          | 0/100 [00:00<?, ?it/s]"
      ]
     },
     "metadata": {},
     "output_type": "display_data"
    },
    {
     "data": {
      "application/vnd.jupyter.widget-view+json": {
       "model_id": "",
       "version_major": 2,
       "version_minor": 0
      },
      "text/plain": [
       "fidelity_LZ: [['tf']]:   0%|          | 0/100 [00:00<?, ?it/s]"
      ]
     },
     "metadata": {},
     "output_type": "display_data"
    },
    {
     "data": {
      "application/vnd.jupyter.widget-view+json": {
       "model_id": "",
       "version_major": 2,
       "version_minor": 0
      },
      "text/plain": [
       "fidelity_LZ: [['tf']]:   0%|          | 0/100 [00:00<?, ?it/s]"
      ]
     },
     "metadata": {},
     "output_type": "display_data"
    },
    {
     "data": {
      "application/vnd.jupyter.widget-view+json": {
       "model_id": "",
       "version_major": 2,
       "version_minor": 0
      },
      "text/plain": [
       "fidelity_LZ: [['tf']]:   0%|          | 0/100 [00:00<?, ?it/s]"
      ]
     },
     "metadata": {},
     "output_type": "display_data"
    },
    {
     "data": {
      "application/vnd.jupyter.widget-view+json": {
       "model_id": "",
       "version_major": 2,
       "version_minor": 0
      },
      "text/plain": [
       "fidelity_LZ: [['tf']]:   0%|          | 0/100 [00:00<?, ?it/s]"
      ]
     },
     "metadata": {},
     "output_type": "display_data"
    },
    {
     "data": {
      "application/vnd.jupyter.widget-view+json": {
       "model_id": "",
       "version_major": 2,
       "version_minor": 0
      },
      "text/plain": [
       "fidelity_LZ: [['tf']]:   0%|          | 0/100 [00:00<?, ?it/s]"
      ]
     },
     "metadata": {},
     "output_type": "display_data"
    },
    {
     "data": {
      "application/vnd.jupyter.widget-view+json": {
       "model_id": "",
       "version_major": 2,
       "version_minor": 0
      },
      "text/plain": [
       "fidelity_LZ: [['tf']]:   0%|          | 0/100 [00:00<?, ?it/s]"
      ]
     },
     "metadata": {},
     "output_type": "display_data"
    },
    {
     "data": {
      "application/vnd.jupyter.widget-view+json": {
       "model_id": "",
       "version_major": 2,
       "version_minor": 0
      },
      "text/plain": [
       "fidelity_LZ: [['tf']]:   0%|          | 0/100 [00:00<?, ?it/s]"
      ]
     },
     "metadata": {},
     "output_type": "display_data"
    },
    {
     "data": {
      "application/vnd.jupyter.widget-view+json": {
       "model_id": "",
       "version_major": 2,
       "version_minor": 0
      },
      "text/plain": [
       "fidelity_LZ: [['tf']]:   0%|          | 0/100 [00:00<?, ?it/s]"
      ]
     },
     "metadata": {},
     "output_type": "display_data"
    }
   ],
   "source": [
    "fidelities_dephasing = np.zeros((n_alphas, len(tfs)))\n",
    "pbar = tqdm(total=n_alphas, desc='Computing fidelitites')\n",
    "for i in range(n_alphas):\n",
    "    fidelities_dephasing[i] = compute_fidelity_total(alphas[i], betas[i], gamma=gamma)\n",
    "    pbar.update()\n",
    "pbar.close()"
   ]
  },
  {
   "cell_type": "code",
   "execution_count": 8,
   "id": "c35c2868-66ec-446e-a54c-83f72d01a645",
   "metadata": {
    "execution": {
     "iopub.execute_input": "2025-03-13T15:00:04.390667Z",
     "iopub.status.busy": "2025-03-13T15:00:04.390667Z",
     "iopub.status.idle": "2025-03-13T15:00:04.860304Z",
     "shell.execute_reply": "2025-03-13T15:00:04.860304Z",
     "shell.execute_reply.started": "2025-03-13T15:00:04.390667Z"
    }
   },
   "outputs": [
    {
     "name": "stderr",
     "output_type": "stream",
     "text": [
      "C:\\Users\\david\\OneDrive - UAM\\Projects\\hyper-QUAD\\codes\\notebooks_to_share\\..\\HQUAD_lib\\plotting_utils.py:125: UserWarning: Overwriting the cmap 'shiftedcmap' that was already in the registry.\n",
      "  colormaps.register(cmap=newcmap, force=True)\n"
     ]
    },
    {
     "data": {
      "image/png": "[encoded data removed]",
      "text/plain": [
       "<Figure size 340x450 with 3 Axes>"
      ]
     },
     "metadata": {},
     "output_type": "display_data"
    }
   ],
   "source": [
    "fig, axs = plt.subplots(3, 1, figsize=(3.4, 4.5), gridspec_kw=dict(height_ratios=[0.075, 1, 1]))\n",
    "\n",
    "ax, sm = plot_gradient_lines(tfs, 1 - fidelities_pure, alphas, betas, \n",
    "                             y_label=r'$1 - \\mathcal{F}$', ax=axs[1],\n",
    "                             legend_bool=False, cbar_bool=False)\n",
    "\n",
    "axs[1].text(0.97, 0.95, r'$1 / T_2 = 0$', ha='right',\n",
    "            transform=axs[1].transAxes, va='top',\n",
    "            bbox=dict(boxstyle=\"round\", ec='k', fc='w', alpha=1))\n",
    "\n",
    "axs[1].set_ylim(1e-8, 1.2)\n",
    "axs[1].set_xticklabels([])\n",
    "\n",
    "ax, sm = plot_gradient_lines(tfs, 1 - fidelities_dephasing, alphas, betas, \n",
    "                    x_label=r'$t_f \\; [1 / x]$', y_label=r'$1 - \\mathcal{F}$',\n",
    "                    ax=axs[2], legend_bool=False, cbar_bool=False)\n",
    "\n",
    "axs[2].text(0.97, 0.95, r'$1 / T_2 \\neq 0$', ha='right',\n",
    "            transform=axs[2].transAxes, va='top',\n",
    "            bbox=dict(boxstyle=\"round\", ec='k', fc='w', alpha=1))\n",
    "\n",
    "axs[2].set_ylim(3e-3, 1)\n",
    "\n",
    "axs[2].plot(tfs, 1 / 2 * (1 - np.exp(-tfs * gamma)), ls='--', c='k')\n",
    "\n",
    "plt.colorbar(sm, cax=axs[0], label=r'$n_+ $', orientation='horizontal', location='top', extend='both')\n",
    "\n",
    "for ax in axs[1:]:\n",
    "    ax.set_xlim(0, 10)\n",
    "    ax.set_yscale('log')"
   ]
  }
 ],
 "metadata": {
  "kernelspec": {
   "display_name": "Python 3 (ipykernel)",
   "language": "python",
   "name": "python3"
  },
  "language_info": {
   "codemirror_mode": {
    "name": "ipython",
    "version": 3
   },
   "file_extension": ".py",
   "mimetype": "text/x-python",
   "name": "python",
   "nbconvert_exporter": "python",
   "pygments_lexer": "ipython3",
   "version": "3.9.16"
  }
 },
 "nbformat": 4,
 "nbformat_minor": 5
}
