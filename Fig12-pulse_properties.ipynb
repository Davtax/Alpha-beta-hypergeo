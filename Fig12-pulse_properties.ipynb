{
 "cells": [
  {
   "cell_type": "markdown",
   "id": "90be9001-cdb3-41c0-9b66-2d889121488c",
   "metadata": {},
   "source": [
    "The Slew rate for a pulse is defined as\n",
    "$$\n",
    "\\text{Slew rate} = \\max_{t\\in [0,t_\\text{f}]} \\left(\\frac{dV}{dt}\\right)\\propto \\max_{t\\in [0,t_\\text{f}]} \\left(\\frac{d\\lambda}{dt}\\right),\n",
    "$$\n",
    "where $\\lambda(t)$ is the driving parameters. In the case of the LZ problem, we can obtain the analytical result for the Slew rate as\n",
    "$$\n",
    "\\text{Slew rate} \\propto \\frac{2^{\\alpha/2}\\delta^{(\\alpha,\\beta)}}{x^{\\beta/2}}\\max_{t\\in [0,t_\\text{f}]} \\left((x^2+z(t)^2)^{n_+/2}\\right).\n",
    "$$\n",
    "\n",
    "Another importar property of a pulse is the bandwidth, defined as\n",
    "$$\n",
    "\\text{Bandwidth} = f_\\text{max}-f_\\text{min}\\Big|_{|\\mathcal{F}(t, f)|\\geq \\mathcal{F}_\\text{max}/\\sqrt{2}}.\n",
    "$$\n",
    "where $\\mathcal{F}(t, f)$ is the short time Fourier transform, which reads\n",
    "$$\n",
    "\\mathcal{F}(t, f) = \\int_{-\\infty}^\\infty dt \\lambda(t)w(t)e^{-2\\pi ift}.\n",
    "$$\n",
    "Here, $w(t)$ is the window function,for which we use a Hamming window function."
   ]
  },
  {
   "cell_type": "code",
   "execution_count": 1,
   "id": "2a950895-34dd-4941-84ed-5118d522837b",
   "metadata": {
    "execution": {
     "iopub.execute_input": "2025-03-13T18:02:41.272318Z",
     "iopub.status.busy": "2025-03-13T18:02:41.271980Z",
     "iopub.status.idle": "2025-03-13T18:02:42.369409Z",
     "shell.execute_reply": "2025-03-13T18:02:42.369036Z",
     "shell.execute_reply.started": "2025-03-13T18:02:41.272289Z"
    }
   },
   "outputs": [],
   "source": [
    "import sys\n",
    "sys.path.append('../')\n",
    "\n",
    "import numpy as np\n",
    "import matplotlib.pyplot as plt\n",
    "import scipy as sp\n",
    "\n",
    "from HQUAD_lib.QUAD_utils import solve_LZ\n",
    "from HQUAD_lib.parallel_utils import parameter_run"
   ]
  },
  {
   "cell_type": "code",
   "execution_count": 17,
   "id": "8cf53f47-73d5-4a52-ad8e-0cdd21e93222",
   "metadata": {
    "execution": {
     "iopub.execute_input": "2025-03-13T18:07:34.966888Z",
     "iopub.status.busy": "2025-03-13T18:07:34.966180Z",
     "iopub.status.idle": "2025-03-13T18:07:38.678706Z",
     "shell.execute_reply": "2025-03-13T18:07:38.678199Z",
     "shell.execute_reply.started": "2025-03-13T18:07:34.966841Z"
    }
   },
   "outputs": [
    {
     "data": {
      "application/vnd.jupyter.widget-view+json": {
       "model_id": "d83b18541ea04677a2b36d65ac7c4541",
       "version_major": 2,
       "version_minor": 0
      },
      "text/plain": [
       "solve_LZ: [['alpha']]:   0%|          | 0/21 [00:00<?, ?it/s]"
      ]
     },
     "metadata": {},
     "output_type": "display_data"
    }
   ],
   "source": [
    "x = 1\n",
    "\n",
    "n_values = 21  # Increase to enhance resolution\n",
    "\n",
    "alphas = np.linspace(-5, 5, n_values) * 2\n",
    "beta = 0\n",
    "n_plus = (alphas + beta) / 2\n",
    "\n",
    "zs_sol = parameter_run(solve_LZ, 'alpha', alphas, beta=0, x=x, n_s=2**20 + 1)"
   ]
  },
  {
   "cell_type": "markdown",
   "id": "0c13d3ef-3f11-4903-96b6-562f636e0113",
   "metadata": {},
   "source": [
    "# Slew rate"
   ]
  },
  {
   "cell_type": "code",
   "execution_count": 18,
   "id": "169e3282-d9dd-4d45-b3db-3cc3cc529363",
   "metadata": {
    "execution": {
     "iopub.execute_input": "2025-03-13T18:07:38.681138Z",
     "iopub.status.busy": "2025-03-13T18:07:38.680801Z",
     "iopub.status.idle": "2025-03-13T18:07:38.802175Z",
     "shell.execute_reply": "2025-03-13T18:07:38.801773Z",
     "shell.execute_reply.started": "2025-03-13T18:07:38.681116Z"
    }
   },
   "outputs": [],
   "source": [
    "s = np.linspace(0, 1, len(zs_sol[0]))\n",
    "ds = np.abs(s[1] - s[0])\n",
    "\n",
    "dz = np.gradient(zs_sol, ds, axis=1)\n",
    "slew_rate = np.max(dz, axis=1)"
   ]
  },
  {
   "cell_type": "code",
   "execution_count": 19,
   "id": "8eb504df-f666-4646-9487-e0c3dc3a8c5b",
   "metadata": {
    "execution": {
     "iopub.execute_input": "2025-03-13T18:07:38.802941Z",
     "iopub.status.busy": "2025-03-13T18:07:38.802808Z",
     "iopub.status.idle": "2025-03-13T18:07:38.807273Z",
     "shell.execute_reply": "2025-03-13T18:07:38.806927Z",
     "shell.execute_reply.started": "2025-03-13T18:07:38.802928Z"
    }
   },
   "outputs": [],
   "source": [
    "def delta(alpha, beta, z):\n",
    "    n_plus = (alpha + beta) / 2\n",
    "    return sp.special.hyp2f1(1, (3 - n_plus) / 2, 3 / 2, -z ** 2 / x ** 2) * z * np.sqrt(2 ** -alpha * x ** beta * (x ** 2 + z ** 2) ** -n_plus) * (1 + z ** 2 / x ** 2)\n",
    "\n",
    "analytic_1 = [2 ** (alpha / 2) * 2 * delta(alpha, beta, 10) * (1 ** 2 + 10 ** 2) ** ((alpha + beta) / 4) for alpha in alphas]\n",
    "analytic_2 = [2 ** (alpha / 2) * 2 * delta(alpha, beta, 10) * (1 ** 2) ** ((alpha + beta) / 4) for alpha in alphas]\n",
    "\n",
    "analytic_1 = np.array(analytic_1)\n",
    "analytic_2 = np.array(analytic_2)\n",
    "\n",
    "indices_negative = np.where(n_plus < 0)[0]\n",
    "\n",
    "analytic_total = analytic_1\n",
    "analytic_total[indices_negative] = analytic_2[indices_negative]"
   ]
  },
  {
   "cell_type": "markdown",
   "id": "dcd86ed9-c66f-4677-8cd2-dd1062593477",
   "metadata": {
    "execution": {
     "iopub.execute_input": "2025-03-13T16:55:15.226980Z",
     "iopub.status.busy": "2025-03-13T16:55:15.225899Z",
     "iopub.status.idle": "2025-03-13T16:55:15.232326Z",
     "shell.execute_reply": "2025-03-13T16:55:15.231145Z",
     "shell.execute_reply.started": "2025-03-13T16:55:15.226911Z"
    }
   },
   "source": [
    "# Short time Fourier transform"
   ]
  },
  {
   "cell_type": "code",
   "execution_count": 20,
   "id": "7d3478f1-d368-4863-ac27-b5dca9f5617b",
   "metadata": {
    "execution": {
     "iopub.execute_input": "2025-03-13T18:07:38.808454Z",
     "iopub.status.busy": "2025-03-13T18:07:38.808330Z",
     "iopub.status.idle": "2025-03-13T18:07:38.812455Z",
     "shell.execute_reply": "2025-03-13T18:07:38.812158Z",
     "shell.execute_reply.started": "2025-03-13T18:07:38.808441Z"
    }
   },
   "outputs": [],
   "source": [
    "def find_fmax(pulse, window, threshold=-20):\n",
    "    boundary_left = np.ones(len(pulse)) * -10\n",
    "    boundary_right = np.ones(len(pulse)) * 10\n",
    "\n",
    "    pulse = np.concatenate((boundary_left, pulse, boundary_right))\n",
    "    s = np.linspace(0, 3, len(pulse))\n",
    "\n",
    "    SFT = sp.signal.ShortTimeFFT(window, hop=1, fs=1 / (s[1] - s[0]), scale_to='psd')\n",
    "    Sx = SFT.stft(pulse)\n",
    "\n",
    "    signal = np.abs(Sx)\n",
    "    signal = 10 * np.log10(signal / np.max(signal))\n",
    "\n",
    "    index_0 = np.where(s > 0.5)[0][0]\n",
    "    index_f = np.where(s > 2.5)[0][0]\n",
    "\n",
    "    signal = signal[:, index_0:index_f]\n",
    "    indices = np.where(signal >= threshold)\n",
    "    index_max = np.argmax(indices[0])\n",
    "\n",
    "    freq = SFT.f\n",
    "    time = SFT.t(len(pulse))\n",
    "    \n",
    "    return freq[indices[0][index_max]], time[index_0:index_f][indices[1][index_max]] - 1"
   ]
  },
  {
   "cell_type": "code",
   "execution_count": 21,
   "id": "06cf3273-db1e-4a4a-af14-a842889d4c63",
   "metadata": {
    "execution": {
     "iopub.execute_input": "2025-03-13T18:07:38.813131Z",
     "iopub.status.busy": "2025-03-13T18:07:38.812985Z",
     "iopub.status.idle": "2025-03-13T18:08:55.333902Z",
     "shell.execute_reply": "2025-03-13T18:08:55.331966Z",
     "shell.execute_reply.started": "2025-03-13T18:07:38.813118Z"
    },
    "scrolled": true
   },
   "outputs": [
    {
     "data": {
      "application/vnd.jupyter.widget-view+json": {
       "model_id": "dbc215b2a52e45ca8f300d04314ceea1",
       "version_major": 2,
       "version_minor": 0
      },
      "text/plain": [
       "find_fmax: [['pulse']]:   0%|          | 0/21 [00:00<?, ?it/s]"
      ]
     },
     "metadata": {},
     "output_type": "display_data"
    },
    {
     "name": "stderr",
     "output_type": "stream",
     "text": [
      "/var/folders/ft/m248tj8s21b0kgjh20yzzt1c0000gn/T/ipykernel_25306/1191821124.py:12: RuntimeWarning: divide by zero encountered in log10\n",
      "/var/folders/ft/m248tj8s21b0kgjh20yzzt1c0000gn/T/ipykernel_25306/1191821124.py:12: RuntimeWarning: divide by zero encountered in log10\n",
      "/var/folders/ft/m248tj8s21b0kgjh20yzzt1c0000gn/T/ipykernel_25306/1191821124.py:12: RuntimeWarning: divide by zero encountered in log10\n",
      "/var/folders/ft/m248tj8s21b0kgjh20yzzt1c0000gn/T/ipykernel_25306/1191821124.py:12: RuntimeWarning: divide by zero encountered in log10\n",
      "/var/folders/ft/m248tj8s21b0kgjh20yzzt1c0000gn/T/ipykernel_25306/1191821124.py:12: RuntimeWarning: divide by zero encountered in log10\n",
      "/var/folders/ft/m248tj8s21b0kgjh20yzzt1c0000gn/T/ipykernel_25306/1191821124.py:12: RuntimeWarning: divide by zero encountered in log10\n",
      "/var/folders/ft/m248tj8s21b0kgjh20yzzt1c0000gn/T/ipykernel_25306/1191821124.py:12: RuntimeWarning: divide by zero encountered in log10\n",
      "/var/folders/ft/m248tj8s21b0kgjh20yzzt1c0000gn/T/ipykernel_25306/1191821124.py:12: RuntimeWarning: divide by zero encountered in log10\n",
      "/var/folders/ft/m248tj8s21b0kgjh20yzzt1c0000gn/T/ipykernel_25306/1191821124.py:12: RuntimeWarning: divide by zero encountered in log10\n",
      "/var/folders/ft/m248tj8s21b0kgjh20yzzt1c0000gn/T/ipykernel_25306/1191821124.py:12: RuntimeWarning: divide by zero encountered in log10\n",
      "/var/folders/ft/m248tj8s21b0kgjh20yzzt1c0000gn/T/ipykernel_25306/1191821124.py:12: RuntimeWarning: divide by zero encountered in log10\n",
      "/var/folders/ft/m248tj8s21b0kgjh20yzzt1c0000gn/T/ipykernel_25306/1191821124.py:12: RuntimeWarning: divide by zero encountered in log10\n",
      "/var/folders/ft/m248tj8s21b0kgjh20yzzt1c0000gn/T/ipykernel_25306/1191821124.py:12: RuntimeWarning: divide by zero encountered in log10\n",
      "/var/folders/ft/m248tj8s21b0kgjh20yzzt1c0000gn/T/ipykernel_25306/1191821124.py:12: RuntimeWarning: divide by zero encountered in log10\n",
      "/var/folders/ft/m248tj8s21b0kgjh20yzzt1c0000gn/T/ipykernel_25306/1191821124.py:12: RuntimeWarning: divide by zero encountered in log10\n",
      "/var/folders/ft/m248tj8s21b0kgjh20yzzt1c0000gn/T/ipykernel_25306/1191821124.py:12: RuntimeWarning: divide by zero encountered in log10\n",
      "/var/folders/ft/m248tj8s21b0kgjh20yzzt1c0000gn/T/ipykernel_25306/1191821124.py:12: RuntimeWarning: divide by zero encountered in log10\n",
      "/var/folders/ft/m248tj8s21b0kgjh20yzzt1c0000gn/T/ipykernel_25306/1191821124.py:12: RuntimeWarning: divide by zero encountered in log10\n",
      "/var/folders/ft/m248tj8s21b0kgjh20yzzt1c0000gn/T/ipykernel_25306/1191821124.py:12: RuntimeWarning: divide by zero encountered in log10\n",
      "/var/folders/ft/m248tj8s21b0kgjh20yzzt1c0000gn/T/ipykernel_25306/1191821124.py:12: RuntimeWarning: divide by zero encountered in log10\n",
      "/var/folders/ft/m248tj8s21b0kgjh20yzzt1c0000gn/T/ipykernel_25306/1191821124.py:12: RuntimeWarning: divide by zero encountered in log10\n"
     ]
    }
   ],
   "source": [
    "threshold = -20\n",
    "window = sp.signal.windows.hamming(5000)\n",
    "reduction = 6\n",
    "\n",
    "pulses_reduced = [pulse[::2 ** reduction] for pulse in zs_sol]\n",
    "fs_max, ts_max = parameter_run(find_fmax, 'pulse', pulses_reduced, reshape=True, n_workers=3, threshold=threshold,\n",
    "                               window=window)"
   ]
  },
  {
   "cell_type": "markdown",
   "id": "2e2f03f3-1074-445b-8c48-087de3513d7f",
   "metadata": {},
   "source": [
    "# Plot"
   ]
  },
  {
   "cell_type": "code",
   "execution_count": 24,
   "id": "80ba8b68-bf67-43c7-b77c-078935a82a9d",
   "metadata": {
    "execution": {
     "iopub.execute_input": "2025-03-13T18:09:10.746581Z",
     "iopub.status.busy": "2025-03-13T18:09:10.745583Z",
     "iopub.status.idle": "2025-03-13T18:09:10.952012Z",
     "shell.execute_reply": "2025-03-13T18:09:10.951660Z",
     "shell.execute_reply.started": "2025-03-13T18:09:10.746523Z"
    }
   },
   "outputs": [
    {
     "data": {
      "image/png": "[encoded data removed]",
      "text/plain": [
       "<Figure size 340x350 with 2 Axes>"
      ]
     },
     "metadata": {},
     "output_type": "display_data"
    }
   ],
   "source": [
    "fig, axs= plt.subplots(2, 1, figsize=(3.4, 3.5), sharex=True)\n",
    "\n",
    "# Slew rate (left)\n",
    "axs[0].plot(n_plus, slew_rate, '.',\n",
    "            markersize=8, label='Numeric', c='r')\n",
    "y_limits = axs[0].get_ylim()\n",
    "\n",
    "axs[0].plot(n_plus, analytic_total, '--', label=r'Analytic', c='k')\n",
    "\n",
    "axs[0].legend()\n",
    "axs[0].set_xlim(np.min(n_plus), np.max(n_plus))\n",
    "axs[0].set_yscale('log')\n",
    "axs[0].set_ylabel(r'slew rate $[x^2]$')\n",
    "\n",
    "# STFT\n",
    "axs[1].plot(n_plus, fs_max, '.', markersize=8)\n",
    "\n",
    "axs[1].set_xlabel(r'$n_+$')\n",
    "axs[1].set_ylabel(r'$f_\\mathrm{max} / x$')\n",
    "axs[1].set_xlim(min(n_plus), max(n_plus))\n",
    "axs[1].set_ylim(0, None);"
   ]
  }
 ],
 "metadata": {
  "kernelspec": {
   "display_name": "Python 3 (ipykernel)",
   "language": "python",
   "name": "python3"
  },
  "language_info": {
   "codemirror_mode": {
    "name": "ipython",
    "version": 3
   },
   "file_extension": ".py",
   "mimetype": "text/x-python",
   "name": "python",
   "nbconvert_exporter": "python",
   "pygments_lexer": "ipython3",
   "version": "3.9.16"
  }
 },
 "nbformat": 4,
 "nbformat_minor": 5
}
