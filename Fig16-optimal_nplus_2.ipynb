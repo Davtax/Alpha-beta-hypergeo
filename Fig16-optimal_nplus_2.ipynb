{
 "cells": [
  {
   "cell_type": "markdown",
   "id": "2d8881d4-d804-4014-a9cb-f72d98360cba",
   "metadata": {},
   "source": "In this notebook we study the maximum fidelity for a filtered pulse (see notebook for Fig.11 for more information), versus the dephasing strength and the boundary condition for the initial and the final pulse values."
  },
  {
   "cell_type": "code",
   "execution_count": 1,
   "id": "efdbd892-ba40-45f4-ae0e-d723e946d430",
   "metadata": {
    "execution": {
     "iopub.execute_input": "2025-04-07T16:47:00.284147Z",
     "iopub.status.busy": "2025-04-07T16:47:00.275783Z",
     "iopub.status.idle": "2025-04-07T16:47:02.250080Z",
     "shell.execute_reply": "2025-04-07T16:47:02.249696Z",
     "shell.execute_reply.started": "2025-04-07T16:47:00.283896Z"
    }
   },
   "outputs": [],
   "source": [
    "import sys\n",
    "sys.path.append('../')\n",
    "\n",
    "import numpy as np\n",
    "import matplotlib.pyplot as plt\n",
    "\n",
    "from HQUAD_lib.QUAD_utils import solve_LZ\n",
    "from HQUAD_lib.parallel_utils import parameter_run\n",
    "from HQUAD_lib.physics_utils import filter_pulse, fidelity_LZ"
   ]
  },
  {
   "cell_type": "code",
   "execution_count": 2,
   "id": "51d490a4-d2eb-4435-963a-fb66153e3d43",
   "metadata": {
    "execution": {
     "iopub.execute_input": "2025-04-07T16:47:02.251150Z",
     "iopub.status.busy": "2025-04-07T16:47:02.250953Z",
     "iopub.status.idle": "2025-04-07T16:47:02.254551Z",
     "shell.execute_reply": "2025-04-07T16:47:02.254261Z",
     "shell.execute_reply.started": "2025-04-07T16:47:02.251137Z"
    }
   },
   "outputs": [],
   "source": [
    "def compute_fidelity_total(alpha: float, beta: float, gamma: float, z0: float) -> np.array:\n",
    "    z_sol = solve_LZ(alpha, beta, reduction=dynamics_reduction, z0=z0)\n",
    "\n",
    "    boundary_left = np.ones(len(z_sol) // tails_factor) * -10\n",
    "    boundary_right = np.ones(len(z_sol) // tails_factor) * 10\n",
    "    pulse = np.concatenate((boundary_left, z_sol, boundary_right))\n",
    "\n",
    "    fidelities = np.zeros(n_tf)\n",
    "    for i in range(n_tf):\n",
    "        time = np.linspace(0, tf_list[i], len(pulse))\n",
    "        filtered_pulse = filter_pulse(pulse, time, order=order, fc=fc)\n",
    "        fidelities[i] = fidelity_LZ(min(pulse), filtered_pulse, tf_list[i], x=x, gamma=gamma)\n",
    "\n",
    "    return fidelities"
   ]
  },
  {
   "cell_type": "code",
   "execution_count": 28,
   "id": "82e915dd-9fd8-4dad-ac9c-9f1467b8ceb5",
   "metadata": {
    "execution": {
     "iopub.execute_input": "2025-03-14T05:20:04.728615Z",
     "iopub.status.busy": "2025-03-14T05:20:04.727520Z",
     "iopub.status.idle": "2025-03-14T05:20:04.739414Z",
     "shell.execute_reply": "2025-03-14T05:20:04.738164Z",
     "shell.execute_reply.started": "2025-03-14T05:20:04.728547Z"
    }
   },
   "outputs": [],
   "source": [
    "x = 1\n",
    "fc = 1\n",
    "\n",
    "dynamics_reduction = 4  # Decrease to get more exact results\n",
    "tails_factor = 5\n",
    "\n",
    "order = 3\n",
    "\n",
    "n_values = 21  # Increase to get higher resolution\n",
    "n_minus = 0\n",
    "n_plus = np.linspace(0, 5, n_values)\n",
    "\n",
    "alphas = n_plus + n_minus\n",
    "betas = n_plus - n_minus\n",
    "\n",
    "n_tf = 20\n",
    "tf_list = np.linspace(1, 20, n_tf) * (1 + 2 / tails_factor)"
   ]
  },
  {
   "cell_type": "markdown",
   "id": "757eb249-975e-4d8f-b09a-7da57ffca771",
   "metadata": {},
   "source": [
    "# Run in $T_2$"
   ]
  },
  {
   "cell_type": "code",
   "execution_count": 31,
   "id": "f44245cc-1aa1-49b3-b9b5-157227096832",
   "metadata": {
    "execution": {
     "iopub.execute_input": "2025-03-14T05:20:49.912747Z",
     "iopub.status.busy": "2025-03-14T05:20:49.911555Z",
     "iopub.status.idle": "2025-03-14T05:22:51.522531Z",
     "shell.execute_reply": "2025-03-14T05:22:51.521963Z",
     "shell.execute_reply.started": "2025-03-14T05:20:49.912662Z"
    }
   },
   "outputs": [
    {
     "data": {
      "application/vnd.jupyter.widget-view+json": {
       "model_id": "4f960c10f77d4209ad22325a6c0e3593",
       "version_major": 2,
       "version_minor": 0
      },
      "text/plain": [
       "compute_fidelity_total: [['alpha', 'beta(...)]:   0%|          | 0/210 [00:00<?, ?it/s]"
      ]
     },
     "metadata": {},
     "output_type": "display_data"
    }
   ],
   "source": [
    "z0 = -10\n",
    "\n",
    "n_gamma = 10  # Increase to get higher resolution\n",
    "gamma_list = np.logspace(-3, -1, n_gamma)\n",
    "\n",
    "gamma_fidelities = parameter_run(compute_fidelity_total, [['alpha', 'beta'], ['gamma']], \n",
    "                                 [[alphas, betas], [gamma_list]], reshape=False, z0=z0)\n",
    "\n",
    "gamma_fidelities = np.array(gamma_fidelities).reshape((n_values, n_gamma, n_tf))\n",
    "gamma_max_fidelity = np.max(gamma_fidelities, axis=-1)"
   ]
  },
  {
   "cell_type": "markdown",
   "id": "0b32c21e-b7f7-4fc8-ae26-f85d8d2fd500",
   "metadata": {},
   "source": [
    "# Run in $z_0$"
   ]
  },
  {
   "cell_type": "code",
   "execution_count": 32,
   "id": "7c2cf3ec-55eb-4f1e-82b8-d70bf81ef13c",
   "metadata": {
    "execution": {
     "iopub.execute_input": "2025-03-14T05:22:51.523768Z",
     "iopub.status.busy": "2025-03-14T05:22:51.523635Z",
     "iopub.status.idle": "2025-03-14T05:24:56.982953Z",
     "shell.execute_reply": "2025-03-14T05:24:56.982595Z",
     "shell.execute_reply.started": "2025-03-14T05:22:51.523752Z"
    }
   },
   "outputs": [
    {
     "data": {
      "application/vnd.jupyter.widget-view+json": {
       "model_id": "7a94f4c723104344860db6c49186aa7b",
       "version_major": 2,
       "version_minor": 0
      },
      "text/plain": [
       "compute_fidelity_total: [['alpha', 'beta(...)]:   0%|          | 0/210 [00:00<?, ?it/s]"
      ]
     },
     "metadata": {},
     "output_type": "display_data"
    }
   ],
   "source": [
    "gamma = 0.005\n",
    "\n",
    "n_z0 = 10  # Increase to get higher resolution\n",
    "z0_list = np.linspace(-20, -5, n_z0)\n",
    "\n",
    "z0_fidelities = parameter_run(compute_fidelity_total, [['alpha', 'beta'], ['z0']], \n",
    "                              [[alphas, betas], [z0_list]], reshape=False, gamma=gamma)\n",
    "\n",
    "z0_fidelities = np.array(z0_fidelities).reshape((n_values, n_z0, n_tf))\n",
    "z0_max_fidelity = np.max(z0_fidelities, axis=-1)"
   ]
  },
  {
   "cell_type": "markdown",
   "id": "c9c78916-4ae6-4fe1-8f3e-9a9483d6baa7",
   "metadata": {},
   "source": [
    "# Plot"
   ]
  },
  {
   "cell_type": "code",
   "execution_count": 34,
   "id": "a8e06bb3-316c-427b-b00a-97adee533ec9",
   "metadata": {
    "execution": {
     "iopub.execute_input": "2025-03-14T05:25:02.923776Z",
     "iopub.status.busy": "2025-03-14T05:25:02.922499Z",
     "iopub.status.idle": "2025-03-14T05:25:03.228019Z",
     "shell.execute_reply": "2025-03-14T05:25:03.227652Z",
     "shell.execute_reply.started": "2025-03-14T05:25:02.923707Z"
    }
   },
   "outputs": [
    {
     "data": {
      "image/png": "[encoded data removed]",
      "text/plain": [
       "<Figure size 340x400 with 4 Axes>"
      ]
     },
     "metadata": {},
     "output_type": "display_data"
    }
   ],
   "source": [
    "fig, axs = plt.subplots(2, 1, sharex=True, figsize=(3.4, 4))\n",
    "\n",
    "fidelities = np.array([gamma_max_fidelity, z0_max_fidelity])\n",
    "\n",
    "T2 = 1 / (2 * gamma_list)\n",
    "im0 = axs[0].pcolormesh(n_plus, T2, np.log10(1 - gamma_max_fidelity.T), cmap='viridis_r')\n",
    "\n",
    "axs[0].set_ylabel(r'$T_2 \\;[1/ x]$')\n",
    "axs[0].set_yscale('log')\n",
    "\n",
    "im1 = axs[1].pcolormesh(n_plus, z0_list, np.log10(1 - z0_max_fidelity.T), cmap='viridis_r')\n",
    "\n",
    "axs[1].set_xlabel(r'$n_+$')\n",
    "axs[1].set_ylabel(r'$z(t=0) / x$')\n",
    "\n",
    "cbar0 = plt.colorbar(im0, ax=axs[0], label=r'$\\log_{10}(1 - \\tilde{\\mathcal{F}})$')\n",
    "cbar1 = plt.colorbar(im1, ax=axs[1], label=r'$\\log_{10}(1 - \\tilde{\\mathcal{F}})$')\n",
    "\n",
    "fig.subplots_adjust(hspace=0.05)"
   ]
  }
 ],
 "metadata": {
  "kernelspec": {
   "display_name": "Python 3 (ipykernel)",
   "language": "python",
   "name": "python3"
  },
  "language_info": {
   "codemirror_mode": {
    "name": "ipython",
    "version": 3
   },
   "file_extension": ".py",
   "mimetype": "text/x-python",
   "name": "python",
   "nbconvert_exporter": "python",
   "pygments_lexer": "ipython3",
   "version": "3.9.16"
  }
 },
 "nbformat": 4,
 "nbformat_minor": 5
}
