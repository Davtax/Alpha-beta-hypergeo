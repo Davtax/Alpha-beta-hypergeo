{
 "cells": [
  {
   "cell_type": "markdown",
   "id": "4e3464a4-a6b2-41de-ab9e-29c5185d0902",
   "metadata": {},
   "source": [
    "in this notebook, we compute the rank of the Gram matrix, defined as $G_{i,j} = \\langle f_i | f_j\\rangle$ (see notebook for Fig.09 for more information), versus the number of basis elements."
   ]
  },
  {
   "cell_type": "code",
   "execution_count": 1,
   "id": "7d21e360-1a60-451d-b2db-c13b4a9abb7b",
   "metadata": {
    "execution": {
     "iopub.execute_input": "2025-04-07T16:43:47.681470Z",
     "iopub.status.busy": "2025-04-07T16:43:47.678843Z",
     "iopub.status.idle": "2025-04-07T16:43:49.258410Z",
     "shell.execute_reply": "2025-04-07T16:43:49.258065Z",
     "shell.execute_reply.started": "2025-04-07T16:43:47.681342Z"
    }
   },
   "outputs": [],
   "source": [
    "import sys\n",
    "sys.path.append('../')\n",
    "\n",
    "import numpy as np\n",
    "import matplotlib.pyplot as plt\n",
    "from scipy.integrate import romb\n",
    "from scipy.linalg import qr\n",
    "from tqdm.auto import tqdm\n",
    "\n",
    "from HQUAD_lib.QUAD_utils import solve_LZ\n",
    "from HQUAD_lib.parallel_utils import parameter_run"
   ]
  },
  {
   "cell_type": "code",
   "execution_count": 2,
   "id": "177fbd45-2098-429d-adbc-b6feab3bdf5a",
   "metadata": {
    "execution": {
     "iopub.execute_input": "2025-04-07T16:43:53.179638Z",
     "iopub.status.busy": "2025-04-07T16:43:53.178556Z",
     "iopub.status.idle": "2025-04-07T16:44:07.316050Z",
     "shell.execute_reply": "2025-04-07T16:44:07.315403Z",
     "shell.execute_reply.started": "2025-04-07T16:43:53.179587Z"
    }
   },
   "outputs": [
    {
     "data": {
      "application/vnd.jupyter.widget-view+json": {
       "model_id": "4652ed5002094be7bc7d99b6984227a3",
       "version_major": 2,
       "version_minor": 0
      },
      "text/plain": [
       "solve_LZ: [['alpha']]:   0%|          | 0/501 [00:00<?, ?it/s]"
      ]
     },
     "metadata": {},
     "output_type": "display_data"
    }
   ],
   "source": [
    "alphas = np.linspace(-25, 25, 501)\n",
    "beta = 0\n",
    "ns_plus = (alphas + beta) / 2\n",
    "\n",
    "zs_sol = parameter_run(solve_LZ, 'alpha', alphas, beta=beta, reduction=3)\n",
    "s = np.linspace(0, 1, len(zs_sol[0]))"
   ]
  },
  {
   "cell_type": "code",
   "execution_count": 3,
   "id": "a3d98bc5-7215-4de8-a289-f6a7500d2450",
   "metadata": {
    "execution": {
     "iopub.execute_input": "2025-04-07T16:44:07.318413Z",
     "iopub.status.busy": "2025-04-07T16:44:07.318207Z",
     "iopub.status.idle": "2025-04-07T16:44:08.723746Z",
     "shell.execute_reply": "2025-04-07T16:44:08.723320Z",
     "shell.execute_reply.started": "2025-04-07T16:44:07.318396Z"
    }
   },
   "outputs": [
    {
     "data": {
      "application/vnd.jupyter.widget-view+json": {
       "model_id": "f697e191b4d64d119a8f0e11aafd62d2",
       "version_major": 2,
       "version_minor": 0
      },
      "text/plain": [
       "  0%|          | 0/501 [00:00<?, ?it/s]"
      ]
     },
     "metadata": {},
     "output_type": "display_data"
    }
   ],
   "source": [
    "N = len(zs_sol)\n",
    "ds = np.abs(s[1] - s[0])\n",
    "\n",
    "G = np.zeros((N, N))\n",
    "\n",
    "pbar = tqdm(range(N))\n",
    "for i in pbar:\n",
    "    G[i, :] = romb(zs_sol[i] * zs_sol, dx=ds, axis=-1)"
   ]
  },
  {
   "cell_type": "code",
   "execution_count": 4,
   "id": "e58e801d-2a63-4352-b831-65d20c3a1e31",
   "metadata": {
    "execution": {
     "iopub.execute_input": "2025-04-07T16:44:08.724543Z",
     "iopub.status.busy": "2025-04-07T16:44:08.724400Z",
     "iopub.status.idle": "2025-04-07T16:44:08.727638Z",
     "shell.execute_reply": "2025-04-07T16:44:08.727339Z",
     "shell.execute_reply.started": "2025-04-07T16:44:08.724529Z"
    }
   },
   "outputs": [],
   "source": [
    "def get_rank(G: np.ndarray, size: int, tolerance=1e-10) -> int:\n",
    "    indices = np.arange(-size // 2, size // 2) + N // 2\n",
    "\n",
    "    G_2 = G[indices][:, indices]\n",
    "    Q_2, R, pivot_indices = qr(G_2, pivoting=True)\n",
    "\n",
    "    rank = np.sum(np.abs(np.diag(R)) > tolerance)\n",
    "    return int(rank)"
   ]
  },
  {
   "cell_type": "code",
   "execution_count": 5,
   "id": "fdf59124-3292-48ac-a5ad-d388c98c096d",
   "metadata": {
    "execution": {
     "iopub.execute_input": "2025-04-07T16:44:08.728759Z",
     "iopub.status.busy": "2025-04-07T16:44:08.728625Z",
     "iopub.status.idle": "2025-04-07T16:44:12.089149Z",
     "shell.execute_reply": "2025-04-07T16:44:12.088670Z",
     "shell.execute_reply.started": "2025-04-07T16:44:08.728747Z"
    }
   },
   "outputs": [
    {
     "data": {
      "application/vnd.jupyter.widget-view+json": {
       "model_id": "5447545ff2d4416fa2bf053b913d1fe2",
       "version_major": 2,
       "version_minor": 0
      },
      "text/plain": [
       "get_rank: [['size']]:   0%|          | 0/500 [00:00<?, ?it/s]"
      ]
     },
     "metadata": {},
     "output_type": "display_data"
    }
   ],
   "source": [
    "sizes = np.arange(1, N)\n",
    "\n",
    "ranks = parameter_run(get_rank, 'size', sizes, G=G)\n",
    "ranks = np.array(ranks).flatten()"
   ]
  },
  {
   "cell_type": "code",
   "execution_count": 6,
   "id": "f30b3ae8-743c-4c82-a5d0-574442fbd25a",
   "metadata": {
    "execution": {
     "iopub.execute_input": "2025-04-07T16:44:12.090907Z",
     "iopub.status.busy": "2025-04-07T16:44:12.090671Z",
     "iopub.status.idle": "2025-04-07T16:44:12.336030Z",
     "shell.execute_reply": "2025-04-07T16:44:12.335648Z",
     "shell.execute_reply.started": "2025-04-07T16:44:12.090888Z"
    }
   },
   "outputs": [
    {
     "data": {
      "image/png": "[encoded data removed]",
      "text/plain": [
       "<Figure size 340x250 with 2 Axes>"
      ]
     },
     "metadata": {},
     "output_type": "display_data"
    }
   ],
   "source": [
    "fig, ax = plt.subplots(figsize=(3.4, 2.5))\n",
    "\n",
    "ax.plot(sizes, ranks, '-')\n",
    "ax.set_xlim(min(sizes), max(sizes))\n",
    "ax.set_ylim(0, max(ranks) * 1.05)\n",
    "\n",
    "ax2 = ax.twiny()\n",
    "\n",
    "ax.set_xlabel(r'$\\operatorname{Size}(G)$')\n",
    "ax.set_ylabel(r'$\\operatorname{Rank}(G)$')\n",
    "   \n",
    "ax2.set_xbound(ax.get_xbound())\n",
    "ax2.set_xticks(ax.get_xticks())\n",
    "ax2.set_xticklabels(ax.get_xticks() / np.max(sizes) * np.max(ns_plus))\n",
    "ax2.set_xlabel(r'$|n_+|_{\\max}$');"
   ]
  }
 ],
 "metadata": {
  "kernelspec": {
   "display_name": "Python 3 (ipykernel)",
   "language": "python",
   "name": "python3"
  },
  "language_info": {
   "codemirror_mode": {
    "name": "ipython",
    "version": 3
   },
   "file_extension": ".py",
   "mimetype": "text/x-python",
   "name": "python",
   "nbconvert_exporter": "python",
   "pygments_lexer": "ipython3",
   "version": "3.9.16"
  }
 },
 "nbformat": 4,
 "nbformat_minor": 5
}
