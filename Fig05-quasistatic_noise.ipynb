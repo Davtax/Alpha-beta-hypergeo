{
 "cells": [
  {
   "cell_type": "markdown",
   "id": "9cb328d4-2a1a-44ec-81f5-0cacecd8761e",
   "metadata": {},
   "source": [
    "Low frequency stochastic errors can be included in the Hamiltonian as\n",
    "$$\n",
    "H(t) = (z(t)-\\tilde{z})\\sigma_z+(x+\\tilde{x})\\sigma_x,\n",
    "$$\n",
    "with $\\tilde{z}$ and $\\tilde{x}$ drawn from a Gaussian distribution, with zero mean and standard deviation given by $\\delta_z$ and $\\delta_x$, respectively."
   ]
  },
  {
   "cell_type": "code",
   "execution_count": 1,
   "id": "701b1f9e-defa-49d2-8f9f-b4acd725bf7d",
   "metadata": {
    "execution": {
     "iopub.execute_input": "2025-03-13T15:01:45.574192Z",
     "iopub.status.busy": "2025-03-13T15:01:45.573183Z",
     "iopub.status.idle": "2025-03-13T15:01:47.031286Z",
     "shell.execute_reply": "2025-03-13T15:01:47.031286Z",
     "shell.execute_reply.started": "2025-03-13T15:01:45.574192Z"
    }
   },
   "outputs": [],
   "source": [
    "import numpy as np\n",
    "import matplotlib.pyplot as plt\n",
    "from tqdm.auto import tqdm\n",
    "\n",
    "from HQUAD_lib.QUAD_utils import solve_LZ\n",
    "from HQUAD_lib.parallel_utils import parameter_run\n",
    "from HQUAD_lib.physics_utils import fidelity_LZ"
   ]
  },
  {
   "cell_type": "code",
   "execution_count": 2,
   "id": "b7d8028a-2d7d-435d-bd7d-ec911e637640",
   "metadata": {
    "execution": {
     "iopub.execute_input": "2025-03-13T15:01:47.033434Z",
     "iopub.status.busy": "2025-03-13T15:01:47.032428Z",
     "iopub.status.idle": "2025-03-13T15:01:47.047309Z",
     "shell.execute_reply": "2025-03-13T15:01:47.046309Z",
     "shell.execute_reply.started": "2025-03-13T15:01:47.033434Z"
    }
   },
   "outputs": [],
   "source": [
    "x = 1\n",
    "delta_x = x / 10\n",
    "delta_z = x / 10\n",
    "\n",
    "alphas = np.linspace(-2, 10, 10)  # Increase number of samples to improve resolution\n",
    "betas = alphas\n",
    "n_plus = (alphas + betas) / 2\n",
    "\n",
    "tfs = np.linspace(0.1, 30, 10)  # Increase number of samples to improve resolution\n",
    "\n",
    "n_runs = 5  # Increase number of runs to get more stable results"
   ]
  },
  {
   "cell_type": "code",
   "execution_count": 3,
   "id": "23d2b91c-2419-4c2f-af2a-a8426d6e7784",
   "metadata": {
    "execution": {
     "iopub.execute_input": "2025-03-13T15:01:47.048310Z",
     "iopub.status.busy": "2025-03-13T15:01:47.048310Z",
     "iopub.status.idle": "2025-03-13T15:01:47.062903Z",
     "shell.execute_reply": "2025-03-13T15:01:47.061899Z",
     "shell.execute_reply.started": "2025-03-13T15:01:47.048310Z"
    }
   },
   "outputs": [],
   "source": [
    "def compute_fidelity_total(alpha, beta, delta_x, delta_z):\n",
    "    z_sol = solve_LZ(alpha, beta, x=x)\n",
    "\n",
    "    if (delta_x == 0) and (delta_z == 0):\n",
    "        n_runs_int = 1\n",
    "    else:\n",
    "        n_runs_int = n_runs\n",
    "  \n",
    "    fidelities = []\n",
    "    for _ in tqdm(range(n_runs_int), desc='    Iterating over noise', leave=False):\n",
    "        x_bar = np.random.normal(scale=delta_x)\n",
    "        z_bar = np.random.normal(scale=delta_z)\n",
    "        \n",
    "        fidelities.append(parameter_run(fidelity_LZ, 'tf', tfs, pulse=z_sol, x=x, z0=-10, x_bar=x_bar, z_bar=z_bar, pbar_bool=False))\n",
    "\n",
    "    fidelities = np.array(fidelities)\n",
    "    \n",
    "    return np.average(fidelities, axis=0)"
   ]
  },
  {
   "cell_type": "code",
   "execution_count": 4,
   "id": "c24f6327-a520-46ea-b248-7e8523bd9680",
   "metadata": {
    "execution": {
     "iopub.execute_input": "2025-03-13T15:01:47.650290Z",
     "iopub.status.busy": "2025-03-13T15:01:47.649290Z",
     "iopub.status.idle": "2025-03-13T15:06:27.805702Z",
     "shell.execute_reply": "2025-03-13T15:06:27.805702Z",
     "shell.execute_reply.started": "2025-03-13T15:01:47.650290Z"
    }
   },
   "outputs": [
    {
     "data": {
      "application/vnd.jupyter.widget-view+json": {
       "model_id": "a0003062bda343dcbb99e8e62010924d",
       "version_major": 2,
       "version_minor": 0
      },
      "text/plain": [
       "Iterating over alpha:   0%|          | 0/10 [00:00<?, ?it/s]"
      ]
     },
     "metadata": {},
     "output_type": "display_data"
    },
    {
     "data": {
      "application/vnd.jupyter.widget-view+json": {
       "model_id": "",
       "version_major": 2,
       "version_minor": 0
      },
      "text/plain": [
       "    Iterating over noise:   0%|          | 0/5 [00:00<?, ?it/s]"
      ]
     },
     "metadata": {},
     "output_type": "display_data"
    },
    {
     "data": {
      "application/vnd.jupyter.widget-view+json": {
       "model_id": "",
       "version_major": 2,
       "version_minor": 0
      },
      "text/plain": [
       "    Iterating over noise:   0%|          | 0/5 [00:00<?, ?it/s]"
      ]
     },
     "metadata": {},
     "output_type": "display_data"
    },
    {
     "data": {
      "application/vnd.jupyter.widget-view+json": {
       "model_id": "",
       "version_major": 2,
       "version_minor": 0
      },
      "text/plain": [
       "    Iterating over noise:   0%|          | 0/5 [00:00<?, ?it/s]"
      ]
     },
     "metadata": {},
     "output_type": "display_data"
    },
    {
     "data": {
      "application/vnd.jupyter.widget-view+json": {
       "model_id": "",
       "version_major": 2,
       "version_minor": 0
      },
      "text/plain": [
       "    Iterating over noise:   0%|          | 0/5 [00:00<?, ?it/s]"
      ]
     },
     "metadata": {},
     "output_type": "display_data"
    },
    {
     "data": {
      "application/vnd.jupyter.widget-view+json": {
       "model_id": "",
       "version_major": 2,
       "version_minor": 0
      },
      "text/plain": [
       "    Iterating over noise:   0%|          | 0/5 [00:00<?, ?it/s]"
      ]
     },
     "metadata": {},
     "output_type": "display_data"
    },
    {
     "data": {
      "application/vnd.jupyter.widget-view+json": {
       "model_id": "",
       "version_major": 2,
       "version_minor": 0
      },
      "text/plain": [
       "    Iterating over noise:   0%|          | 0/5 [00:00<?, ?it/s]"
      ]
     },
     "metadata": {},
     "output_type": "display_data"
    },
    {
     "data": {
      "application/vnd.jupyter.widget-view+json": {
       "model_id": "",
       "version_major": 2,
       "version_minor": 0
      },
      "text/plain": [
       "    Iterating over noise:   0%|          | 0/5 [00:00<?, ?it/s]"
      ]
     },
     "metadata": {},
     "output_type": "display_data"
    },
    {
     "data": {
      "application/vnd.jupyter.widget-view+json": {
       "model_id": "",
       "version_major": 2,
       "version_minor": 0
      },
      "text/plain": [
       "    Iterating over noise:   0%|          | 0/5 [00:00<?, ?it/s]"
      ]
     },
     "metadata": {},
     "output_type": "display_data"
    },
    {
     "data": {
      "application/vnd.jupyter.widget-view+json": {
       "model_id": "",
       "version_major": 2,
       "version_minor": 0
      },
      "text/plain": [
       "    Iterating over noise:   0%|          | 0/5 [00:00<?, ?it/s]"
      ]
     },
     "metadata": {},
     "output_type": "display_data"
    },
    {
     "data": {
      "application/vnd.jupyter.widget-view+json": {
       "model_id": "",
       "version_major": 2,
       "version_minor": 0
      },
      "text/plain": [
       "    Iterating over noise:   0%|          | 0/5 [00:00<?, ?it/s]"
      ]
     },
     "metadata": {},
     "output_type": "display_data"
    },
    {
     "data": {
      "application/vnd.jupyter.widget-view+json": {
       "model_id": "",
       "version_major": 2,
       "version_minor": 0
      },
      "text/plain": [
       "    Iterating over noise:   0%|          | 0/5 [00:00<?, ?it/s]"
      ]
     },
     "metadata": {},
     "output_type": "display_data"
    },
    {
     "data": {
      "application/vnd.jupyter.widget-view+json": {
       "model_id": "",
       "version_major": 2,
       "version_minor": 0
      },
      "text/plain": [
       "    Iterating over noise:   0%|          | 0/5 [00:00<?, ?it/s]"
      ]
     },
     "metadata": {},
     "output_type": "display_data"
    },
    {
     "data": {
      "application/vnd.jupyter.widget-view+json": {
       "model_id": "",
       "version_major": 2,
       "version_minor": 0
      },
      "text/plain": [
       "    Iterating over noise:   0%|          | 0/5 [00:00<?, ?it/s]"
      ]
     },
     "metadata": {},
     "output_type": "display_data"
    },
    {
     "data": {
      "application/vnd.jupyter.widget-view+json": {
       "model_id": "",
       "version_major": 2,
       "version_minor": 0
      },
      "text/plain": [
       "    Iterating over noise:   0%|          | 0/5 [00:00<?, ?it/s]"
      ]
     },
     "metadata": {},
     "output_type": "display_data"
    },
    {
     "data": {
      "application/vnd.jupyter.widget-view+json": {
       "model_id": "",
       "version_major": 2,
       "version_minor": 0
      },
      "text/plain": [
       "    Iterating over noise:   0%|          | 0/5 [00:00<?, ?it/s]"
      ]
     },
     "metadata": {},
     "output_type": "display_data"
    },
    {
     "data": {
      "application/vnd.jupyter.widget-view+json": {
       "model_id": "",
       "version_major": 2,
       "version_minor": 0
      },
      "text/plain": [
       "    Iterating over noise:   0%|          | 0/5 [00:00<?, ?it/s]"
      ]
     },
     "metadata": {},
     "output_type": "display_data"
    },
    {
     "data": {
      "application/vnd.jupyter.widget-view+json": {
       "model_id": "",
       "version_major": 2,
       "version_minor": 0
      },
      "text/plain": [
       "    Iterating over noise:   0%|          | 0/5 [00:00<?, ?it/s]"
      ]
     },
     "metadata": {},
     "output_type": "display_data"
    },
    {
     "data": {
      "application/vnd.jupyter.widget-view+json": {
       "model_id": "",
       "version_major": 2,
       "version_minor": 0
      },
      "text/plain": [
       "    Iterating over noise:   0%|          | 0/5 [00:00<?, ?it/s]"
      ]
     },
     "metadata": {},
     "output_type": "display_data"
    },
    {
     "data": {
      "application/vnd.jupyter.widget-view+json": {
       "model_id": "",
       "version_major": 2,
       "version_minor": 0
      },
      "text/plain": [
       "    Iterating over noise:   0%|          | 0/5 [00:00<?, ?it/s]"
      ]
     },
     "metadata": {},
     "output_type": "display_data"
    },
    {
     "data": {
      "application/vnd.jupyter.widget-view+json": {
       "model_id": "",
       "version_major": 2,
       "version_minor": 0
      },
      "text/plain": [
       "    Iterating over noise:   0%|          | 0/5 [00:00<?, ?it/s]"
      ]
     },
     "metadata": {},
     "output_type": "display_data"
    },
    {
     "data": {
      "application/vnd.jupyter.widget-view+json": {
       "model_id": "",
       "version_major": 2,
       "version_minor": 0
      },
      "text/plain": [
       "    Iterating over noise:   0%|          | 0/5 [00:00<?, ?it/s]"
      ]
     },
     "metadata": {},
     "output_type": "display_data"
    },
    {
     "data": {
      "application/vnd.jupyter.widget-view+json": {
       "model_id": "",
       "version_major": 2,
       "version_minor": 0
      },
      "text/plain": [
       "    Iterating over noise:   0%|          | 0/5 [00:00<?, ?it/s]"
      ]
     },
     "metadata": {},
     "output_type": "display_data"
    },
    {
     "data": {
      "application/vnd.jupyter.widget-view+json": {
       "model_id": "",
       "version_major": 2,
       "version_minor": 0
      },
      "text/plain": [
       "    Iterating over noise:   0%|          | 0/5 [00:00<?, ?it/s]"
      ]
     },
     "metadata": {},
     "output_type": "display_data"
    },
    {
     "data": {
      "application/vnd.jupyter.widget-view+json": {
       "model_id": "",
       "version_major": 2,
       "version_minor": 0
      },
      "text/plain": [
       "    Iterating over noise:   0%|          | 0/5 [00:00<?, ?it/s]"
      ]
     },
     "metadata": {},
     "output_type": "display_data"
    },
    {
     "data": {
      "application/vnd.jupyter.widget-view+json": {
       "model_id": "",
       "version_major": 2,
       "version_minor": 0
      },
      "text/plain": [
       "    Iterating over noise:   0%|          | 0/5 [00:00<?, ?it/s]"
      ]
     },
     "metadata": {},
     "output_type": "display_data"
    },
    {
     "data": {
      "application/vnd.jupyter.widget-view+json": {
       "model_id": "",
       "version_major": 2,
       "version_minor": 0
      },
      "text/plain": [
       "    Iterating over noise:   0%|          | 0/5 [00:00<?, ?it/s]"
      ]
     },
     "metadata": {},
     "output_type": "display_data"
    },
    {
     "data": {
      "application/vnd.jupyter.widget-view+json": {
       "model_id": "",
       "version_major": 2,
       "version_minor": 0
      },
      "text/plain": [
       "    Iterating over noise:   0%|          | 0/5 [00:00<?, ?it/s]"
      ]
     },
     "metadata": {},
     "output_type": "display_data"
    },
    {
     "data": {
      "application/vnd.jupyter.widget-view+json": {
       "model_id": "",
       "version_major": 2,
       "version_minor": 0
      },
      "text/plain": [
       "    Iterating over noise:   0%|          | 0/5 [00:00<?, ?it/s]"
      ]
     },
     "metadata": {},
     "output_type": "display_data"
    },
    {
     "data": {
      "application/vnd.jupyter.widget-view+json": {
       "model_id": "",
       "version_major": 2,
       "version_minor": 0
      },
      "text/plain": [
       "    Iterating over noise:   0%|          | 0/5 [00:00<?, ?it/s]"
      ]
     },
     "metadata": {},
     "output_type": "display_data"
    },
    {
     "data": {
      "application/vnd.jupyter.widget-view+json": {
       "model_id": "",
       "version_major": 2,
       "version_minor": 0
      },
      "text/plain": [
       "    Iterating over noise:   0%|          | 0/5 [00:00<?, ?it/s]"
      ]
     },
     "metadata": {},
     "output_type": "display_data"
    }
   ],
   "source": [
    "fidelities = np.zeros((len(alphas), len(tfs)))\n",
    "fidelities_x = np.zeros((len(alphas), len(tfs)))\n",
    "fidelities_z = np.zeros((len(alphas), len(tfs)))\n",
    "\n",
    "pbar = tqdm(range(len(alphas)), 'Iterating over alpha')\n",
    "for i in pbar:\n",
    "    fidelities[i] = compute_fidelity_total(alphas[i], betas[i], 0, 0)\n",
    "    fidelities_x[i] = compute_fidelity_total(alphas[i], betas[i], delta_x, 0)\n",
    "    fidelities_z[i] = compute_fidelity_total(alphas[i], betas[i], 0, delta_z)"
   ]
  },
  {
   "cell_type": "code",
   "execution_count": 6,
   "id": "be1db388-ecc3-4439-a670-73e75b60ca0d",
   "metadata": {
    "execution": {
     "iopub.execute_input": "2025-03-13T15:06:39.638622Z",
     "iopub.status.busy": "2025-03-13T15:06:39.638622Z",
     "iopub.status.idle": "2025-03-13T15:06:40.046276Z",
     "shell.execute_reply": "2025-03-13T15:06:40.046276Z",
     "shell.execute_reply.started": "2025-03-13T15:06:39.638622Z"
    }
   },
   "outputs": [
    {
     "data": {
      "image/png": "[encoded data removed]",
      "text/plain": [
       "<Figure size 340x340 with 4 Axes>"
      ]
     },
     "metadata": {},
     "output_type": "display_data"
    }
   ],
   "source": [
    "fig, axs = plt.subplots(3, 1, sharex=True, sharey=True, figsize=(3.4, 3.4))\n",
    "\n",
    "vmax = 0\n",
    "vmin = -5\n",
    "\n",
    "axs[0].imshow(np.log10(1 - fidelities).T, aspect='auto', origin='lower', interpolation='none', vmin=vmin, vmax=vmax,\n",
    "              extent=[min(n_plus), max(n_plus), min(tfs), max(tfs)], cmap='viridis_r')\n",
    "\n",
    "axs[1].imshow(np.log10(1 - fidelities_x).T, aspect='auto', origin='lower', interpolation='none', vmin=vmin, vmax=vmax,\n",
    "              extent=[min(n_plus), max(n_plus), min(tfs), max(tfs)], cmap='viridis_r')\n",
    "\n",
    "im = axs[2].imshow(np.log10(1 - fidelities_z).T, aspect='auto', origin='lower', interpolation='none', vmin=vmin, vmax=vmax,\n",
    "                   extent=[min(n_plus), max(n_plus), min(tfs), max(tfs)], cmap='viridis_r')\n",
    "\n",
    "axs[0].text(0.95, 0.9, r'$\\delta_x=\\delta_z = 0$', ha='right',\n",
    "            transform=axs[0].transAxes, va='top',\n",
    "            bbox=dict(boxstyle=\"round\", ec='k', fc='w', alpha=1))\n",
    "\n",
    "axs[1].text(0.95, 0.9, r'$\\delta_x \\neq 0$', ha='right',\n",
    "            transform=axs[1].transAxes, va='top',\n",
    "            bbox=dict(boxstyle=\"round\", ec='k', fc='w', alpha=1))\n",
    "\n",
    "axs[2].text(0.95, 0.9, r'$\\delta_z \\neq 0$', ha='right',\n",
    "            transform=axs[2].transAxes, va='top',\n",
    "            bbox=dict(boxstyle=\"round\", ec='k', fc='w', alpha=1))\n",
    "\n",
    "for ax in axs:\n",
    "    ax.set_ylabel(r'$t_f \\; [1 / x]$')\n",
    "    ax.axvline(2, color='r', ls='--', alpha=0.7)\n",
    "\n",
    "axs[2].set_xlabel(r'$n_+$')\n",
    "axs[2].set_ylim(min(tfs), 30)\n",
    "\n",
    "fig.subplots_adjust(hspace=0.1)\n",
    "fig.colorbar(im, ax=axs, label=r'$\\log_{10}(1 - \\overline{\\mathcal{F}})$', extend='min');"
   ]
  }
 ],
 "metadata": {
  "kernelspec": {
   "display_name": "Python 3 (ipykernel)",
   "language": "python",
   "name": "python3"
  },
  "language_info": {
   "codemirror_mode": {
    "name": "ipython",
    "version": 3
   },
   "file_extension": ".py",
   "mimetype": "text/x-python",
   "name": "python",
   "nbconvert_exporter": "python",
   "pygments_lexer": "ipython3",
   "version": "3.9.16"
  }
 },
 "nbformat": 4,
 "nbformat_minor": 5
}
