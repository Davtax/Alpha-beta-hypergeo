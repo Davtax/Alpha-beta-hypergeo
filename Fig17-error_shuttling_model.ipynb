{
 "cells": [
  {
   "cell_type": "markdown",
   "id": "5922638b-d0b1-4a75-b39c-4b8783afbf58",
   "metadata": {},
   "source": [
    "In this notebook we compute the error for the solution obtained for a shuttling model (see notebook for Fig.14 for more information) by solving the ($\\alpha,\\beta$) hypergeometry, and the approximation for a basis of functions obtained with the LZ problem (see notebook for Fig.09 for more information). In this case, we use an interpolation technique, such that the approximated pulse is give by\n",
    "$$\n",
    "g(\\tau) \\simeq \\sum_n\\left[c_n^{(1)}\\Theta(-\\tau+1/2) + c_n^{(2)}\\Theta(\\tau-1/2)\\right]\\,\\tilde{f}_n(\\tau).\n",
    "$$"
   ]
  },
  {
   "cell_type": "code",
   "execution_count": 1,
   "id": "aec22920-d838-42bd-836f-cab0584a60aa",
   "metadata": {
    "execution": {
     "iopub.execute_input": "2025-03-13T16:41:08.614252Z",
     "iopub.status.busy": "2025-03-13T16:41:08.613463Z",
     "iopub.status.idle": "2025-03-13T16:41:09.873659Z",
     "shell.execute_reply": "2025-03-13T16:41:09.873255Z",
     "shell.execute_reply.started": "2025-03-13T16:41:08.614206Z"
    }
   },
   "outputs": [],
   "source": [
    "import sys\n",
    "sys.path.append('../')\n",
    "\n",
    "import numpy as np\n",
    "import matplotlib.pyplot as plt\n",
    "from scipy.integrate import romb\n",
    "from scipy.linalg import qr\n",
    "from tqdm.auto import tqdm\n",
    "\n",
    "from HQUAD_lib.parallel_utils import parameter_run\n",
    "from HQUAD_lib.QUAD_utils import solve_LZ\n",
    "from HQUAD_lib.hamiltonians import two_valleys_system\n",
    "from HQUAD_lib.utils import compute_error_basis_approx"
   ]
  },
  {
   "cell_type": "code",
   "execution_count": 2,
   "id": "f2f7a9ed-bc6b-433d-97fd-c8bbe31ef970",
   "metadata": {
    "execution": {
     "iopub.execute_input": "2025-03-13T16:41:18.341424Z",
     "iopub.status.busy": "2025-03-13T16:41:18.340290Z",
     "iopub.status.idle": "2025-03-13T16:41:29.837909Z",
     "shell.execute_reply": "2025-03-13T16:41:29.837461Z",
     "shell.execute_reply.started": "2025-03-13T16:41:18.341372Z"
    }
   },
   "outputs": [
    {
     "data": {
      "application/vnd.jupyter.widget-view+json": {
       "model_id": "3cff4793e0f34016a6bcdde24afb1022",
       "version_major": 2,
       "version_minor": 0
      },
      "text/plain": [
       "solve_LZ: [['alpha']]:   0%|          | 0/201 [00:00<?, ?it/s]"
      ]
     },
     "metadata": {},
     "output_type": "display_data"
    },
    {
     "data": {
      "application/vnd.jupyter.widget-view+json": {
       "model_id": "efaa79bbc6a0485886d95b8c2216018a",
       "version_major": 2,
       "version_minor": 0
      },
      "text/plain": [
       "  0%|          | 0/201 [00:00<?, ?it/s]"
      ]
     },
     "metadata": {},
     "output_type": "display_data"
    }
   ],
   "source": [
    "alphas = np.linspace(-25, 60, 201)  # Increase to obtain lower errors\n",
    "alphas[0] = -np.inf\n",
    "alphas[-1] = np.inf\n",
    "\n",
    "beta = 0\n",
    "\n",
    "zs_sol = parameter_run(solve_LZ, 'alpha', alphas, beta=beta, reduction=3)\n",
    "s = np.linspace(0, 1, len(zs_sol[0]))\n",
    "\n",
    "N = len(zs_sol)\n",
    "ds = np.abs(s[1] - s[0])\n",
    "\n",
    "G = np.zeros((N, N))\n",
    "\n",
    "pbar = tqdm(range(N))\n",
    "for i in pbar:\n",
    "    G[i, :] = romb(zs_sol[i] * zs_sol, dx=ds, axis=-1)\n",
    "\n",
    "Q, R, pivot_indices = qr(G, pivoting=True)\n",
    "tolerance = 1e-10\n",
    "rank = np.sum(np.abs(np.diag(R)) > tolerance)\n",
    "\n",
    "independent_indices = sorted(pivot_indices[:rank])\n",
    "\n",
    "independent_functions = [zs_sol[i] for i in independent_indices]\n",
    "\n",
    "# Recompute the Gram matrix for the independent functions\n",
    "G_independent = G[independent_indices, :][:, independent_indices]"
   ]
  },
  {
   "cell_type": "code",
   "execution_count": 3,
   "id": "1dbb0d70-8a5f-4e1e-9de2-9d6fe62ba3c4",
   "metadata": {
    "execution": {
     "iopub.execute_input": "2025-03-13T16:43:06.743774Z",
     "iopub.status.busy": "2025-03-13T16:43:06.740962Z",
     "iopub.status.idle": "2025-03-13T16:43:06.755109Z",
     "shell.execute_reply": "2025-03-13T16:43:06.753725Z",
     "shell.execute_reply.started": "2025-03-13T16:43:06.743667Z"
    }
   },
   "outputs": [],
   "source": [
    "tc = 1\n",
    "phiL = 0\n",
    "phiR = 0.8 * np.pi\n",
    "DeltaL = 1\n",
    "DeltaR = 2\n",
    "\n",
    "limit_inf = 0\n",
    "limit_sup = 1e10\n",
    "\n",
    "adiabatic_state = 1"
   ]
  },
  {
   "cell_type": "code",
   "execution_count": 19,
   "id": "eb23db77-76fd-46a1-bd30-7f0f86272807",
   "metadata": {
    "execution": {
     "iopub.execute_input": "2025-03-13T16:48:13.617370Z",
     "iopub.status.busy": "2025-03-13T16:48:13.616134Z",
     "iopub.status.idle": "2025-03-13T16:48:39.652104Z",
     "shell.execute_reply": "2025-03-13T16:48:39.651378Z",
     "shell.execute_reply.started": "2025-03-13T16:48:13.617282Z"
    }
   },
   "outputs": [],
   "source": [
    "eps_s = np.linspace(-10, 10, 2 ** 20 + 1)\n",
    "driving_parameter = eps_s\n",
    "\n",
    "partial_hamiltonian = np.array([two_valleys_system(1, 0, 0, 0, 0, 0) for _ in range(len(eps_s))])\n",
    "\n",
    "hypermatrix = np.array([two_valleys_system(eps, tc, phiL, phiR, DeltaL, DeltaR) for eps in eps_s])\n",
    "eigvalues, eigmodes = np.linalg.eigh(hypermatrix)\n",
    "\n",
    "alphas = np.linspace(-3, 3, 21)  # Increase sample rate to improve resolution\n",
    "betas = np.linspace(-3, 3, 21)  # Increase sample rate to improve resolution"
   ]
  },
  {
   "cell_type": "code",
   "execution_count": 20,
   "id": "01ce8fbc-7ea8-44c1-a77d-e60e0225b588",
   "metadata": {
    "execution": {
     "iopub.execute_input": "2025-03-13T16:48:43.656024Z",
     "iopub.status.busy": "2025-03-13T16:48:43.654567Z",
     "iopub.status.idle": "2025-03-13T16:50:29.083010Z",
     "shell.execute_reply": "2025-03-13T16:50:29.082408Z",
     "shell.execute_reply.started": "2025-03-13T16:48:43.655892Z"
    }
   },
   "outputs": [
    {
     "data": {
      "application/vnd.jupyter.widget-view+json": {
       "model_id": "c975e016761446aba4c001057678e022",
       "version_major": 2,
       "version_minor": 0
      },
      "text/plain": [
       "compute_error_basis_approx: [['alpha'], (...)]:   0%|          | 0/441 [00:00<?, ?it/s]"
      ]
     },
     "metadata": {},
     "output_type": "display_data"
    },
    {
     "name": "stderr",
     "output_type": "stream",
     "text": [
      "/Users/david/opt/anaconda3/envs/main/lib/python3.9/site-packages/joblib/externals/loky/process_executor.py:752: UserWarning: A worker stopped while some jobs were given to the executor. This can be caused by a too short worker timeout or by a memory leak.\n",
      "  warnings.warn(\n"
     ]
    }
   ],
   "source": [
    "parameters_fun = dict(eigvalues=eigvalues, eigmodes=eigmodes, driving_parameter=driving_parameter,\n",
    "                      partial_hamiltonian=partial_hamiltonian, adiabatic_state=adiabatic_state,\n",
    "                      independent_functions=independent_functions, G_independent=G_independent, limit_inf=limit_inf,\n",
    "                      limit_sup=limit_sup)\n",
    "\n",
    "errors = parameter_run(compute_error_basis_approx, [['alpha'], ['beta']], [[alphas], [betas]], **parameters_fun)\n",
    "errors = errors.reshape((len(alphas), len(betas)))"
   ]
  },
  {
   "cell_type": "code",
   "execution_count": 21,
   "id": "46905427-863e-4f4e-9852-4d61ad3bcbb4",
   "metadata": {
    "execution": {
     "iopub.execute_input": "2025-03-13T16:50:31.510429Z",
     "iopub.status.busy": "2025-03-13T16:50:31.509698Z",
     "iopub.status.idle": "2025-03-13T16:50:31.684612Z",
     "shell.execute_reply": "2025-03-13T16:50:31.684252Z",
     "shell.execute_reply.started": "2025-03-13T16:50:31.510372Z"
    }
   },
   "outputs": [
    {
     "data": {
      "image/png": "[encoded data removed]",
      "text/plain": [
       "<Figure size 340x250 with 2 Axes>"
      ]
     },
     "metadata": {},
     "output_type": "display_data"
    }
   ],
   "source": [
    "fig, ax = plt.subplots(figsize=(3.4, 2.5))\n",
    "\n",
    "im = ax.imshow(np.log10(errors.T), origin='lower', extent=[min(alphas), max(alphas), min(betas), max(betas)],\n",
    "               cmap='Reds')\n",
    "\n",
    "cbar = plt.colorbar(im, label=r'$\\log_{10}(\\mathcal{E})$', ax=ax)\n",
    "\n",
    "ax.set_xlabel(r'$\\alpha$')\n",
    "ax.set_ylabel(r'$\\beta$');"
   ]
  }
 ],
 "metadata": {
  "kernelspec": {
   "display_name": "Python 3 (ipykernel)",
   "language": "python",
   "name": "python3"
  },
  "language_info": {
   "codemirror_mode": {
    "name": "ipython",
    "version": 3
   },
   "file_extension": ".py",
   "mimetype": "text/x-python",
   "name": "python",
   "nbconvert_exporter": "python",
   "pygments_lexer": "ipython3",
   "version": "3.9.16"
  }
 },
 "nbformat": 4,
 "nbformat_minor": 5
}
