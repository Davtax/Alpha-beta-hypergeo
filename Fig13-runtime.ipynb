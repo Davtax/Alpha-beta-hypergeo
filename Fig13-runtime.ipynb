{
 "cells": [
  {
   "cell_type": "markdown",
   "id": "f19fc202-f314-403d-afc3-2255a742bb5b",
   "metadata": {},
   "source": [
    "In this notebook, we compute the runtime for obtaining the pulses when solving the $(\\alpha, \\beta)$ hypergeometries for different models. For all cases, we repeat the calculation several time, avoiding fluctuations in the CPU times.\n",
    "\n",
    "First, we solve the LZ problem for several pairs of $(\\alpha, \\beta)$.\n",
    "\n",
    "Second, we solve a periodic LZ model, given by the Hamiltonian\n",
    "$$\n",
    "\\hat{H}_{pLZ}=\\cos z(t) \\,\\sigma_z + x \\,\\sigma_x.\n",
    "$$\n",
    "In this case, we compute the runtime versus the number of anticrossings encountered during the transfer.\n",
    "\n",
    "Finally, we solve an all-to-all model, where all the states are coupled to each other. The Hamiltonian describing this model reads\n",
    "$$\n",
    " \\hat{H}_N = \\sum_{k=1}^N \\left[(-1)^kz(t)+k\\Delta\\right]+ x\\sum_{k,k'}^N(c_k^\\dagger c_{k'} + c_{k'}^\\dagger c_k).\n",
    "$$\n",
    "The parameters $x,\\Delta$ control the size and the position of the anticrossings, $z(t)$ is our control field, and $c_k,c_k^\\dagger$ are the annihilation and creation operators, respectively. We compute the adiabatic transfer following the instantaneous eigenstate located in the middle of the band structure. In this case, we only obtain a total of $k_\\max$ eigenstates, centered in the eigenstate of interest."
   ]
  },
  {
   "cell_type": "code",
   "execution_count": 1,
   "id": "0dd6d30f-c767-4902-9ba2-289f6aea7af7",
   "metadata": {
    "execution": {
     "iopub.execute_input": "2025-04-07T17:28:57.375762Z",
     "iopub.status.busy": "2025-04-07T17:28:57.374526Z",
     "iopub.status.idle": "2025-04-07T17:28:58.808892Z",
     "shell.execute_reply": "2025-04-07T17:28:58.808562Z",
     "shell.execute_reply.started": "2025-04-07T17:28:57.375671Z"
    }
   },
   "outputs": [],
   "source": [
    "import numpy as np\n",
    "import matplotlib.pyplot as plt\n",
    "import scipy as sp\n",
    "from time import time\n",
    "from tqdm.auto import tqdm\n",
    "from scipy.optimize import curve_fit\n",
    "\n",
    "from HQUAD_lib.QUAD_utils import solve_LZ, compute_x_quad\n",
    "from HQUAD_lib.plotting_utils import extract_color_map"
   ]
  },
  {
   "cell_type": "code",
   "execution_count": 2,
   "id": "39ce251c-b7e4-46c0-9389-3279a64a4d39",
   "metadata": {
    "execution": {
     "iopub.execute_input": "2025-04-07T17:28:58.809915Z",
     "iopub.status.busy": "2025-04-07T17:28:58.809715Z",
     "iopub.status.idle": "2025-04-07T17:28:58.812110Z",
     "shell.execute_reply": "2025-04-07T17:28:58.811829Z",
     "shell.execute_reply.started": "2025-04-07T17:28:58.809902Z"
    }
   },
   "outputs": [],
   "source": [
    "n_runs = 2  # Increase to get more stable solutions\n",
    "\n",
    "def run_time(*params):\n",
    "    times = []\n",
    "    for i in range(n_runs):\n",
    "        times.append(_run_time(*params))\n",
    "\n",
    "    return np.average(times)"
   ]
  },
  {
   "cell_type": "markdown",
   "id": "f72d69ae-cda2-4ac1-8306-43103bea807e",
   "metadata": {},
   "source": [
    "# Alpha-beta"
   ]
  },
  {
   "cell_type": "code",
   "execution_count": 3,
   "id": "c96026fe-4af4-4100-835a-6634297a6ab0",
   "metadata": {
    "execution": {
     "iopub.execute_input": "2025-04-07T17:28:58.930062Z",
     "iopub.status.busy": "2025-04-07T17:28:58.929770Z",
     "iopub.status.idle": "2025-04-07T17:28:58.933373Z",
     "shell.execute_reply": "2025-04-07T17:28:58.932862Z",
     "shell.execute_reply.started": "2025-04-07T17:28:58.930042Z"
    }
   },
   "outputs": [],
   "source": [
    "def _run_time(alpha, beta):\n",
    "    t0 = time()\n",
    "    solve_LZ(alpha, beta, x=x)\n",
    "    tf = time()\n",
    "    return tf - t0"
   ]
  },
  {
   "cell_type": "code",
   "execution_count": 4,
   "id": "cf720caf-7ce3-41fa-8ac6-6b401371e479",
   "metadata": {
    "execution": {
     "iopub.execute_input": "2025-04-07T17:28:59.207644Z",
     "iopub.status.busy": "2025-04-07T17:28:59.207037Z",
     "iopub.status.idle": "2025-04-07T17:29:24.668887Z",
     "shell.execute_reply": "2025-04-07T17:29:24.668401Z",
     "shell.execute_reply.started": "2025-04-07T17:28:59.207603Z"
    }
   },
   "outputs": [
    {
     "data": {
      "application/vnd.jupyter.widget-view+json": {
       "model_id": "d2ef8f64955647cd81dafb8feac20f56",
       "version_major": 2,
       "version_minor": 0
      },
      "text/plain": [
       "  0%|          | 0/121 [00:00<?, ?it/s]"
      ]
     },
     "metadata": {},
     "output_type": "display_data"
    }
   ],
   "source": [
    "x = 1\n",
    "\n",
    "alphas = np.linspace(-5, 5, 11)  # Increase number of samples to enhance resolution\n",
    "betas = alphas\n",
    "\n",
    "pbar = tqdm(total=len(alphas) * len(betas))\n",
    "times_ab = np.zeros((len(alphas), len(betas)))\n",
    "for i in range(len(alphas)):\n",
    "    for j in range(len(betas)):\n",
    "        times_ab[i, j] = run_time(alphas[i], betas[j])\n",
    "        pbar.update()\n",
    "pbar.close()"
   ]
  },
  {
   "cell_type": "markdown",
   "id": "e3128f9e-e6ff-49dc-9ab8-c49a66aa6251",
   "metadata": {
    "execution": {
     "iopub.execute_input": "2025-03-14T05:59:44.942136Z",
     "iopub.status.busy": "2025-03-14T05:59:44.941201Z",
     "iopub.status.idle": "2025-03-14T05:59:44.949138Z",
     "shell.execute_reply": "2025-03-14T05:59:44.947970Z",
     "shell.execute_reply.started": "2025-03-14T05:59:44.942080Z"
    }
   },
   "source": [
    "# Number of anticrossings"
   ]
  },
  {
   "cell_type": "code",
   "execution_count": 22,
   "id": "4d8fa0f1-063a-4700-85bb-dd8a0b59410f",
   "metadata": {
    "execution": {
     "iopub.execute_input": "2025-04-07T17:42:11.717690Z",
     "iopub.status.busy": "2025-04-07T17:42:11.716605Z",
     "iopub.status.idle": "2025-04-07T17:42:11.726225Z",
     "shell.execute_reply": "2025-04-07T17:42:11.724853Z",
     "shell.execute_reply.started": "2025-04-07T17:42:11.717621Z"
    }
   },
   "outputs": [],
   "source": [
    "def hamiltonian(z, x):\n",
    "    t = np.cos(z)\n",
    "    \n",
    "    return np.array([[t, x], [x, -t]])\n",
    "\n",
    "x = 0.1\n",
    "\n",
    "alpha = 2\n",
    "beta = 2"
   ]
  },
  {
   "cell_type": "code",
   "execution_count": 23,
   "id": "0c436ae8-7eef-4b5f-8ba9-3524af7e02c6",
   "metadata": {
    "execution": {
     "iopub.execute_input": "2025-04-07T17:42:12.008955Z",
     "iopub.status.busy": "2025-04-07T17:42:12.008264Z",
     "iopub.status.idle": "2025-04-07T17:42:12.019797Z",
     "shell.execute_reply": "2025-04-07T17:42:12.018117Z",
     "shell.execute_reply.started": "2025-04-07T17:42:12.008905Z"
    }
   },
   "outputs": [],
   "source": [
    "def _run_time(n_periods):\n",
    "    zs = np.linspace(0, 1, 2 ** 15 + 1) * np.pi * n_periods\n",
    "    partial_hamiltonian = np.array([np.array([[-np.sin(z), 0], [0, np.sin(z)]]) for z in zs])\n",
    "    \n",
    "    hypermatrix = np.array([hamiltonian(z, x) for z in zs])\n",
    "    eigvalues, eigmodes = np.linalg.eigh(hypermatrix)\n",
    "\n",
    "    t0 = time()\n",
    "\n",
    "    compute_x_quad(eigvalues, eigmodes, zs, partial_hamiltonian, adiabatic_state=0,\n",
    "                   alpha=alpha, beta=beta, n_s=2** 15  + 1, limit_inf=1e-2)\n",
    "\n",
    "    tf = time()\n",
    "    return tf - t0"
   ]
  },
  {
   "cell_type": "code",
   "execution_count": 24,
   "id": "74096e8f-2835-4c9f-9fa1-3e92b29805b7",
   "metadata": {
    "execution": {
     "iopub.execute_input": "2025-04-07T17:42:12.737996Z",
     "iopub.status.busy": "2025-04-07T17:42:12.736954Z",
     "iopub.status.idle": "2025-04-07T17:44:44.205823Z",
     "shell.execute_reply": "2025-04-07T17:44:44.205102Z",
     "shell.execute_reply.started": "2025-04-07T17:42:12.737940Z"
    }
   },
   "outputs": [
    {
     "data": {
      "application/vnd.jupyter.widget-view+json": {
       "model_id": "833496e2052944098aa30f356db25e8e",
       "version_major": 2,
       "version_minor": 0
      },
      "text/plain": [
       "  0%|          | 0/199 [00:00<?, ?it/s]"
      ]
     },
     "metadata": {},
     "output_type": "display_data"
    }
   ],
   "source": [
    "times_periods = []\n",
    "n_periods = np.arange(1, 200)\n",
    "pbar = tqdm(n_periods)\n",
    "for i in pbar:\n",
    "    times_periods.append(run_time(i))"
   ]
  },
  {
   "cell_type": "code",
   "execution_count": 25,
   "id": "b64d69b9-416e-4b0c-b64f-0be4b1a8c02c",
   "metadata": {
    "execution": {
     "iopub.execute_input": "2025-04-07T17:44:44.207587Z",
     "iopub.status.busy": "2025-04-07T17:44:44.207427Z",
     "iopub.status.idle": "2025-04-07T17:44:44.211548Z",
     "shell.execute_reply": "2025-04-07T17:44:44.211195Z",
     "shell.execute_reply.started": "2025-04-07T17:44:44.207574Z"
    }
   },
   "outputs": [],
   "source": [
    "def line(x, a0, a1):\n",
    "    return a0 + a1 * x\n",
    "\n",
    "popt, _  = curve_fit(line, n_periods, np.array(times_periods))"
   ]
  },
  {
   "cell_type": "markdown",
   "id": "0ab3e572-f831-47d0-8a00-2958a5f6cbab",
   "metadata": {},
   "source": [
    "# Multilevel"
   ]
  },
  {
   "cell_type": "code",
   "execution_count": 17,
   "id": "a16cfca7-a12b-44b7-83c9-79f12a178934",
   "metadata": {
    "execution": {
     "iopub.execute_input": "2025-04-07T17:41:37.426501Z",
     "iopub.status.busy": "2025-04-07T17:41:37.425740Z",
     "iopub.status.idle": "2025-04-07T17:41:37.435784Z",
     "shell.execute_reply": "2025-04-07T17:41:37.434818Z",
     "shell.execute_reply.started": "2025-04-07T17:41:37.426443Z"
    }
   },
   "outputs": [],
   "source": [
    "def hamiltonian(eps: float, shift: float, tau: float, N: int) -> np.ndarray:\n",
    "    H = np.zeros((N, N))\n",
    "\n",
    "    for i in range(N):\n",
    "        H[i, i] = eps * (-1) ** i + shift * i\n",
    "\n",
    "    H += np.ones((N, N)) * tau - np.eye(N) * tau\n",
    "\n",
    "    return H\n",
    "\n",
    "tau = 1\n",
    "shift = 5\n",
    "\n",
    "alpha = 2\n",
    "beta = 2\n",
    "\n",
    "Ns = np.arange(4, 10)  # Increase to get results for larger systems"
   ]
  },
  {
   "cell_type": "code",
   "execution_count": 18,
   "id": "f73fc7d4-7b96-45a0-a281-11ab5992d38a",
   "metadata": {
    "execution": {
     "iopub.execute_input": "2025-04-07T17:41:39.211840Z",
     "iopub.status.busy": "2025-04-07T17:41:39.211012Z",
     "iopub.status.idle": "2025-04-07T17:41:39.226307Z",
     "shell.execute_reply": "2025-04-07T17:41:39.225460Z",
     "shell.execute_reply.started": "2025-04-07T17:41:39.211790Z"
    }
   },
   "outputs": [],
   "source": [
    "def compute_solution(eps_s: np.ndarray, E_0: float, k: int, hypermatrix: np.ndarray, partial_hamiltonian: np.ndarray):\n",
    "    eigmodes = []\n",
    "    eigvalues = []\n",
    "    for i in range(len(eps_s)):\n",
    "        result = sp.sparse.linalg.eigsh(hypermatrix[i], sigma=E_0, k=k)\n",
    "        eigvalues.append(result[0])\n",
    "        eigmodes.append(result[1])\n",
    "\n",
    "    eigvalues = np.array(eigvalues)\n",
    "    eigmodes = np.array(eigmodes)\n",
    "\n",
    "    compute_x_quad(eigvalues, eigmodes, eps_s, partial_hamiltonian,\n",
    "                   adiabatic_state=k // 2, alpha=alpha, beta=beta)\n",
    "\n",
    "def _run_time(N: int, k: int):\n",
    "    E_0 = shift * N / 2  # Energy of the middle\n",
    "    eps_s = np.linspace(-(N + N * shift / 3), (N + (N + 1) * shift / 3), 2 ** 12 + 1)\n",
    "\n",
    "    partial_hamiltonian = np.array([hamiltonian(1, 0, 0, N) for _ in range(len(eps_s))])\n",
    "    hypermatrix = np.array([hamiltonian(eps, shift, tau, N) for eps in eps_s])\n",
    "\n",
    "    t0 = time()\n",
    "    compute_solution(eps_s, E_0, k, hypermatrix, partial_hamiltonian)\n",
    "    tf = time()\n",
    "\n",
    "    return tf - t0"
   ]
  },
  {
   "cell_type": "code",
   "execution_count": 14,
   "id": "c1b4f8ee-8d35-4715-b9b0-b3fee5eb6948",
   "metadata": {
    "execution": {
     "iopub.execute_input": "2025-04-07T17:38:01.002272Z",
     "iopub.status.busy": "2025-04-07T17:38:01.001480Z",
     "iopub.status.idle": "2025-04-07T17:38:35.390566Z",
     "shell.execute_reply": "2025-04-07T17:38:35.390140Z",
     "shell.execute_reply.started": "2025-04-07T17:38:01.002221Z"
    }
   },
   "outputs": [
    {
     "data": {
      "application/vnd.jupyter.widget-view+json": {
       "model_id": "79b5ef9243e041e1bbacfb0176729c34",
       "version_major": 2,
       "version_minor": 0
      },
      "text/plain": [
       "Run in N:   0%|          | 0/6 [00:00<?, ?it/s]"
      ]
     },
     "metadata": {},
     "output_type": "display_data"
    },
    {
     "data": {
      "application/vnd.jupyter.widget-view+json": {
       "model_id": "",
       "version_major": 2,
       "version_minor": 0
      },
      "text/plain": [
       "    Run in k:   0%|          | 0/1 [00:00<?, ?it/s]"
      ]
     },
     "metadata": {},
     "output_type": "display_data"
    },
    {
     "data": {
      "application/vnd.jupyter.widget-view+json": {
       "model_id": "",
       "version_major": 2,
       "version_minor": 0
      },
      "text/plain": [
       "    Run in k:   0%|          | 0/2 [00:00<?, ?it/s]"
      ]
     },
     "metadata": {},
     "output_type": "display_data"
    },
    {
     "data": {
      "application/vnd.jupyter.widget-view+json": {
       "model_id": "",
       "version_major": 2,
       "version_minor": 0
      },
      "text/plain": [
       "    Run in k:   0%|          | 0/3 [00:00<?, ?it/s]"
      ]
     },
     "metadata": {},
     "output_type": "display_data"
    },
    {
     "data": {
      "application/vnd.jupyter.widget-view+json": {
       "model_id": "",
       "version_major": 2,
       "version_minor": 0
      },
      "text/plain": [
       "    Run in k:   0%|          | 0/4 [00:00<?, ?it/s]"
      ]
     },
     "metadata": {},
     "output_type": "display_data"
    },
    {
     "data": {
      "application/vnd.jupyter.widget-view+json": {
       "model_id": "",
       "version_major": 2,
       "version_minor": 0
      },
      "text/plain": [
       "    Run in k:   0%|          | 0/5 [00:00<?, ?it/s]"
      ]
     },
     "metadata": {},
     "output_type": "display_data"
    },
    {
     "data": {
      "application/vnd.jupyter.widget-view+json": {
       "model_id": "",
       "version_major": 2,
       "version_minor": 0
      },
      "text/plain": [
       "    Run in k:   0%|          | 0/6 [00:00<?, ?it/s]"
      ]
     },
     "metadata": {},
     "output_type": "display_data"
    }
   ],
   "source": [
    "times_a2a = []\n",
    "\n",
    "for N in tqdm(Ns, desc='Run in N'):\n",
    "    times_temp = []\n",
    "    for k in tqdm(range(3, N), desc='    Run in k', leave=False):\n",
    "        times_temp.append(run_time(N, k))\n",
    "\n",
    "    times_a2a.append(times_temp)"
   ]
  },
  {
   "cell_type": "markdown",
   "id": "18ace28f-e6de-4db3-a12d-0ff44e7ecc8d",
   "metadata": {},
   "source": [
    "# Plots"
   ]
  },
  {
   "cell_type": "code",
   "execution_count": 27,
   "id": "c749f5ad-285c-4140-ac0a-94b55fc66361",
   "metadata": {
    "execution": {
     "iopub.execute_input": "2025-04-07T17:48:28.060146Z",
     "iopub.status.busy": "2025-04-07T17:48:28.055618Z",
     "iopub.status.idle": "2025-04-07T17:48:28.384317Z",
     "shell.execute_reply": "2025-04-07T17:48:28.383958Z",
     "shell.execute_reply.started": "2025-04-07T17:48:28.059963Z"
    }
   },
   "outputs": [
    {
     "data": {
      "image/png": "[encoded data removed]",
      "text/plain": [
       "<Figure size 825x200 with 4 Axes>"
      ]
     },
     "metadata": {},
     "output_type": "display_data"
    }
   ],
   "source": [
    "fig, axs = plt.subplot_mosaic('ABC', figsize=(8.25, 2), width_ratios=[0.7, 0.7, 1])\n",
    "axs = [ax for ax in axs.values()]\n",
    "\n",
    "# vs. alpha-beta\n",
    "im = axs[0].imshow(times_ab.T, origin='lower', cmap='Blues',\n",
    "                   extent=[min(alphas), max(alphas), min(betas), max(betas)])\n",
    "\n",
    "cbar = plt.colorbar(im, ax=axs[0], label='Run time [s]', location='top', shrink=0.8)\n",
    "axs[0].set_xlabel(r'$\\alpha$')\n",
    "axs[0].set_ylabel(r'$\\beta$')\n",
    "\n",
    "# vs. Anticrossings\n",
    "axs[1].plot(n_periods, times_periods, '.', label='Numeric')\n",
    "axs[1].plot(n_periods, line(n_periods, *popt), 'r--', label=f'Fit', lw=2)\n",
    "\n",
    "axs[1].set_xlabel('Number of anticrossings')\n",
    "axs[1].set_ylabel('Run time [s]')\n",
    "axs[1].set_ylim(0, max(times_periods))\n",
    "axs[1].set_xlim(0, max(n_periods) + 1)\n",
    "\n",
    "# vs. num. of states\n",
    "colors = extract_color_map(len(Ns) + 1, cmap='plasma')\n",
    "\n",
    "for i in range(len(Ns)):\n",
    "    color = colors[i]\n",
    "    xs = np.arange(len(times_a2a[i])) + 2\n",
    "    axs[2].plot(xs, times_a2a[i], marker='.', color=color)\n",
    " \n",
    "    if i == 0:\n",
    "        label = f'$N={Ns[i]}$'\n",
    "    else:\n",
    "        label = f'${Ns[i]}$'\n",
    "\n",
    "    axs[2].text(xs[-1] + 0.8, times_a2a[i][-1], label,\n",
    "                va='center_baseline', ha='left', color=color)\n",
    " \n",
    "axs[2].set_xlim(0.8, max(xs) + 2)\n",
    "\n",
    "axs[2].set_xlabel(r'$k_\\mathrm{max}$')\n",
    "axs[2].set_ylabel('Run time [s]');"
   ]
  }
 ],
 "metadata": {
  "kernelspec": {
   "display_name": "Python 3 (ipykernel)",
   "language": "python",
   "name": "python3"
  },
  "language_info": {
   "codemirror_mode": {
    "name": "ipython",
    "version": 3
   },
   "file_extension": ".py",
   "mimetype": "text/x-python",
   "name": "python",
   "nbconvert_exporter": "python",
   "pygments_lexer": "ipython3",
   "version": "3.9.16"
  }
 },
 "nbformat": 4,
 "nbformat_minor": 5
}
