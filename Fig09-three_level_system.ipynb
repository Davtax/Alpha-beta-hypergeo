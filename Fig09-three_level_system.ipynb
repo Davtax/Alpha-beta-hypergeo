{
 "cells": [
  {
   "cell_type": "markdown",
   "id": "ede9d5ba-673a-47a6-a0a0-c6b79338964b",
   "metadata": {},
   "source": [
    "The Hamiltonian for a $\\Lambda$-system is given by\n",
    "$$\n",
    "\\hat{H}_\\Lambda(t) = \\frac{1}{\\tau_0}\n",
    "\\begin{pmatrix}\n",
    "    0 & \\tau_1 & 0 \\\\\n",
    "    \\tau_1 & 0 & \\tau_2 \\\\\n",
    "    0 & \\tau_2 & \\varepsilon(t) \\\\\n",
    "\\end{pmatrix}.\n",
    "$$\n",
    "\n",
    "In this notebook, we compute the error between the pulses for a $\\Lambda$-system obtained by directly solving the $(\\alpha,\\beta)$ hypergeometries, and the reconstruction of the pulses using as a basis the ones obtained for the LZ problem.\n",
    "\n",
    "The error is defined as\n",
    "$$\n",
    "\\mathcal{E} = \\int_0^1d\\tau|g(\\tau)-g'(\\tau)|,\n",
    "$$\n",
    "where $g(\\tau)$ is the real pulse, and $g'(\\tau)$ its approximation."
   ]
  },
  {
   "cell_type": "code",
   "execution_count": 8,
   "id": "82e23f6d-43b0-4984-8bd9-bb3caec36e3a",
   "metadata": {
    "execution": {
     "iopub.execute_input": "2025-04-07T17:54:25.230809Z",
     "iopub.status.busy": "2025-04-07T17:54:25.230205Z",
     "iopub.status.idle": "2025-04-07T17:54:25.250797Z",
     "shell.execute_reply": "2025-04-07T17:54:25.249282Z",
     "shell.execute_reply.started": "2025-04-07T17:54:25.230761Z"
    }
   },
   "outputs": [],
   "source": [
    "import numpy as np\n",
    "import matplotlib.pyplot as plt\n",
    "from scipy.integrate import romb\n",
    "from scipy.linalg import qr\n",
    "from tqdm.auto import tqdm\n",
    "\n",
    "from HQUAD_lib.parallel_utils import parameter_run\n",
    "from HQUAD_lib.QUAD_utils import solve_LZ\n",
    "from HQUAD_lib.hamiltonians import lambda_system\n",
    "from HQUAD_lib.utils import compute_error_basis_approx"
   ]
  },
  {
   "cell_type": "code",
   "execution_count": 9,
   "id": "15d2376b-d21a-444b-b598-9bd978601ed8",
   "metadata": {
    "execution": {
     "iopub.execute_input": "2025-04-07T17:54:25.491648Z",
     "iopub.status.busy": "2025-04-07T17:54:25.490969Z",
     "iopub.status.idle": "2025-04-07T17:54:25.601119Z",
     "shell.execute_reply": "2025-04-07T17:54:25.600705Z",
     "shell.execute_reply.started": "2025-04-07T17:54:25.491596Z"
    }
   },
   "outputs": [],
   "source": [
    "eps12 = 0\n",
    "eps23_s = np.linspace(-40, 40, 2 ** 15 + 1)\n",
    "\n",
    "tau1 = 10\n",
    "tau2 = 7\n",
    "\n",
    "hypermatrix = np.array([lambda_system(eps12, eps23, tau1, tau2) for eps23 in eps23_s])\n",
    "eigvalues = np.linalg.eigvalsh(hypermatrix)"
   ]
  },
  {
   "cell_type": "code",
   "execution_count": 10,
   "id": "06858764-8dff-4793-986b-d38fb1b343a8",
   "metadata": {
    "execution": {
     "iopub.execute_input": "2025-04-07T17:54:27.818891Z",
     "iopub.status.busy": "2025-04-07T17:54:27.818015Z",
     "iopub.status.idle": "2025-04-07T17:54:35.188579Z",
     "shell.execute_reply": "2025-04-07T17:54:35.187450Z",
     "shell.execute_reply.started": "2025-04-07T17:54:27.818837Z"
    }
   },
   "outputs": [
    {
     "data": {
      "application/vnd.jupyter.widget-view+json": {
       "model_id": "fb72481e5f6349c9a4f4865ba9994d33",
       "version_major": 2,
       "version_minor": 0
      },
      "text/plain": [
       "solve_LZ: [['alpha']]:   0%|          | 0/201 [00:00<?, ?it/s]"
      ]
     },
     "metadata": {},
     "output_type": "display_data"
    },
    {
     "data": {
      "application/vnd.jupyter.widget-view+json": {
       "model_id": "4a5f792fbd6b4d638bded442ac8672b5",
       "version_major": 2,
       "version_minor": 0
      },
      "text/plain": [
       "  0%|          | 0/201 [00:00<?, ?it/s]"
      ]
     },
     "metadata": {},
     "output_type": "display_data"
    }
   ],
   "source": [
    "alphas = np.linspace(-25, 60, 201)\n",
    "alphas[0] = -np.inf\n",
    "alphas[-1] = np.inf\n",
    "\n",
    "beta = 0\n",
    "\n",
    "zs_sol = parameter_run(solve_LZ, 'alpha', alphas, beta=beta, reduction=3)\n",
    "s = np.linspace(0, 1, len(zs_sol[0]))\n",
    "\n",
    "N = len(zs_sol)\n",
    "ds = np.abs(s[1] - s[0])\n",
    "\n",
    "G = np.zeros((N, N))\n",
    "\n",
    "pbar = tqdm(range(N))\n",
    "for i in pbar:\n",
    "    G[i, :] = romb(zs_sol[i] * zs_sol, dx=ds, axis=-1)\n",
    "\n",
    "Q, R, pivot_indices = qr(G, pivoting=True)\n",
    "tolerance = 1e-10\n",
    "rank = np.sum(np.abs(np.diag(R)) > tolerance)\n",
    "\n",
    "independent_indices = sorted(pivot_indices[:rank])\n",
    "\n",
    "independent_functions = [zs_sol[i] for i in independent_indices]\n",
    "\n",
    "# Recompute the Gram matrix for the independent functions\n",
    "G_independent = G[independent_indices, :][:, independent_indices]"
   ]
  },
  {
   "cell_type": "code",
   "execution_count": 11,
   "id": "29c7c14f-7831-4470-b631-a654937231ec",
   "metadata": {
    "execution": {
     "iopub.execute_input": "2025-04-07T17:54:35.210318Z",
     "iopub.status.busy": "2025-04-07T17:54:35.198992Z",
     "iopub.status.idle": "2025-04-07T17:54:35.320677Z",
     "shell.execute_reply": "2025-04-07T17:54:35.319767Z",
     "shell.execute_reply.started": "2025-04-07T17:54:35.210283Z"
    }
   },
   "outputs": [],
   "source": [
    "partial_hamiltonian = np.array([lambda_system(0, 1, 0, 0) for _ in range(len(eps23_s))])\n",
    "\n",
    "alpha = 2\n",
    "beta = 2\n",
    "adiabatic_state = 1\n",
    "\n",
    "n_taus = 10  # Increase to enhance the resolution\n",
    "taus_1 = np.linspace(0.1, 10, n_taus)\n",
    "taus_2 = np.linspace(0.1, 10, n_taus)"
   ]
  },
  {
   "cell_type": "code",
   "execution_count": 12,
   "id": "13d34fae-353e-4289-846b-c4f4c876262c",
   "metadata": {
    "execution": {
     "iopub.execute_input": "2025-04-07T17:54:35.322038Z",
     "iopub.status.busy": "2025-04-07T17:54:35.321779Z",
     "iopub.status.idle": "2025-04-07T17:54:35.344490Z",
     "shell.execute_reply": "2025-04-07T17:54:35.343477Z",
     "shell.execute_reply.started": "2025-04-07T17:54:35.322009Z"
    }
   },
   "outputs": [],
   "source": [
    "def compute_error(tau1: float, tau2: float) -> float:\n",
    "    hypermatrix = np.array([lambda_system(eps12, eps23, tau1, tau2) for eps23 in eps23_s])\n",
    "    eigvalues, eigmodes = np.linalg.eigh(hypermatrix)\n",
    "\n",
    "    error = compute_error_basis_approx(eigvalues, eigmodes, eps23_s, partial_hamiltonian, alpha, beta, adiabatic_state,\n",
    "                                       independent_functions, G_independent, limit_sup=np.inf, limit_inf=0)\n",
    "\n",
    "    return error"
   ]
  },
  {
   "cell_type": "code",
   "execution_count": 13,
   "id": "2c182a5a-d645-42d6-be90-8ff504a089e5",
   "metadata": {
    "execution": {
     "iopub.execute_input": "2025-04-07T17:54:35.352052Z",
     "iopub.status.busy": "2025-04-07T17:54:35.351450Z",
     "iopub.status.idle": "2025-04-07T17:54:39.024915Z",
     "shell.execute_reply": "2025-04-07T17:54:39.022349Z",
     "shell.execute_reply.started": "2025-04-07T17:54:35.352016Z"
    }
   },
   "outputs": [
    {
     "data": {
      "application/vnd.jupyter.widget-view+json": {
       "model_id": "726b7da4f4dc4b838b3979deb0a1742f",
       "version_major": 2,
       "version_minor": 0
      },
      "text/plain": [
       "compute_error: [['tau1'], ['tau2']]:   0%|          | 0/100 [00:00<?, ?it/s]"
      ]
     },
     "metadata": {},
     "output_type": "display_data"
    }
   ],
   "source": [
    "errors = parameter_run(compute_error, [['tau1'], ['tau2']], [[taus_1], [taus_2]])\n",
    "errors = errors.reshape((len(taus_1), len(taus_2)))"
   ]
  },
  {
   "cell_type": "code",
   "execution_count": 14,
   "id": "4f6059fc-d624-4396-88ba-c02fb6f0708a",
   "metadata": {
    "ExecuteTime": {
     "end_time": "2025-04-07T17:53:41.713906Z",
     "start_time": "2025-04-07T17:53:41.694049Z"
    },
    "execution": {
     "iopub.execute_input": "2025-04-07T17:54:39.029549Z",
     "iopub.status.busy": "2025-04-07T17:54:39.029217Z",
     "iopub.status.idle": "2025-04-07T17:54:39.284273Z",
     "shell.execute_reply": "2025-04-07T17:54:39.283876Z",
     "shell.execute_reply.started": "2025-04-07T17:54:39.029531Z"
    }
   },
   "outputs": [
    {
     "data": {
      "image/png": "[encoded data removed]",
      "text/plain": [
       "<Figure size 340x400 with 3 Axes>"
      ]
     },
     "metadata": {},
     "output_type": "display_data"
    }
   ],
   "source": [
    "fig, axs = plt.subplots(2, 1, figsize=(3.4, 4), gridspec_kw=dict(height_ratios=[0.8, 1]))\n",
    "\n",
    "axs[0].plot(eps23_s, eigvalues)\n",
    "axs[0].grid()\n",
    "axs[0].set_xlim(min(eps23_s), max(eps23_s))\n",
    "axs[0].set_ylim(np.min(eigvalues), np.max(eigvalues))\n",
    "\n",
    "axs[0].set_xlabel(r'$\\varepsilon / \\tau_0$')\n",
    "axs[0].set_ylabel(r'energy $/\\tau_0$')\n",
    "\n",
    "im = axs[1].imshow(np.log10(errors).T, origin='lower', aspect='auto', interpolation='none', cmap='Reds',\n",
    "                   extent=[min(taus_1), max(taus_1), min(taus_2), max(taus_2)])\n",
    "\n",
    "cbar = plt.colorbar(im, ax=axs[1], label=r'$\\log_{10}(\\mathcal{E})$')\n",
    "\n",
    "axs[1].set_xlabel(r'$\\tau_1 / \\tau_0$')\n",
    "axs[1].set_ylabel(r'$\\tau_2 / \\tau_0$')\n",
    "\n",
    "fig.tight_layout()"
   ]
  }
 ],
 "metadata": {
  "kernelspec": {
   "display_name": "Python 3 (ipykernel)",
   "language": "python",
   "name": "python3"
  },
  "language_info": {
   "codemirror_mode": {
    "name": "ipython",
    "version": 3
   },
   "file_extension": ".py",
   "mimetype": "text/x-python",
   "name": "python",
   "nbconvert_exporter": "python",
   "pygments_lexer": "ipython3",
   "version": "3.9.16"
  }
 },
 "nbformat": 4,
 "nbformat_minor": 5
}
